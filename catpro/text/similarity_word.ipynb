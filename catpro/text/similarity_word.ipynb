{
 "cells": [
  {
   "cell_type": "markdown",
   "id": "596c143c-ee9f-4378-b6a9-47927ee36fc8",
   "metadata": {},
   "source": [
    "Described in Saenz et al (2020) adapted to sentence embeddings\n"
   ]
  },
  {
   "cell_type": "code",
   "execution_count": 2,
   "id": "d93af37b-34a6-448c-8767-f775bf92513a",
   "metadata": {},
   "outputs": [
    {
     "name": "stderr",
     "output_type": "stream",
     "text": [
      "/Users/danielmlow/miniconda3/envs/catpro/lib/python3.7/site-packages/huggingface_hub/snapshot_download.py:11: FutureWarning: snapshot_download.py has been made private and will no longer be available from version 0.11. Please use `from huggingface_hub import snapshot_download` to import the only public function in this module. Other members of the file may be changed without a deprecation notice.\n",
      "  FutureWarning,\n"
     ]
    }
   ],
   "source": [
    "import pandas as pd\n",
    "import numpy as np\n",
    "import os\n",
    "import seaborn as sns\n",
    "\n",
    "# catpro\n",
    "from utils.tokenizer import spacy_tokenizer\n",
    "from utils.lemmatizer import spacy_lemmatizer\n",
    "from utils import stop_words\n",
    "from embeddings import vectorize\n",
    "from embeddings import cosine_similarity\n"
   ]
  },
  {
   "cell_type": "code",
   "execution_count": 3,
   "id": "fbc779e6-32ec-4e88-b590-9b9ed5aa7c3a",
   "metadata": {},
   "outputs": [],
   "source": [
    "def df_similarity_token_category(embeddings_tokens_doc, constructs_d, df_train, docs_clean, summary_stats = None):\n",
    "    feature_vectors_mean = []\n",
    "    feature_vectors_median = []\n",
    "    feature_vectors_max = []\n",
    "    \n",
    "    constructs = list(constructs_d.keys())\n",
    "\n",
    "    for i, doc in enumerate(docs_clean):\n",
    "        embeddings_tokens_doc_i = embeddings_tokens_doc[i]\n",
    "        feature_vectors_category = []\n",
    "        df_scores_category_all = []\n",
    "\n",
    "        for category in constructs:\n",
    "            embedding_category = constructs_d.get(category)\n",
    "            cosine_scores = cosine_similarity(embedding_category, embeddings_tokens_doc_i)\n",
    "            df_scores_category = pd.DataFrame([docs_clean[i], np.array(cosine_scores[0])]).T\n",
    "            df_scores_category.columns = ['token', category]\n",
    "            df_scores_category = df_scores_category.sort_values(by='token')\n",
    "            # df_scores_category_all= df_scores_category_all.merge(df_scores_category, on='token', how = 'outer')\n",
    "            df_scores_category_all.append(df_scores_category)\n",
    "        df_scores_category_all = pd.concat(df_scores_category_all, axis=1)\n",
    "        # df_scores_category_all = df_scores_category_all[constructs].astype(float)\n",
    "        feature_vectors_mean.append(df_scores_category_all.mean())\n",
    "        feature_vectors_median.append(df_scores_category_all.median())\n",
    "        feature_vectors_max.append(df_scores_category_all.max())\n",
    "\n",
    "    feature_vectors_mean = pd.concat(feature_vectors_mean,axis=1).T\n",
    "    feature_vectors_mean.columns = [n+'_mean' for n in feature_vectors_mean.columns]\n",
    "\n",
    "    feature_vectors_median = pd.concat(feature_vectors_median,axis=1).T\n",
    "    feature_vectors_median.columns = [n+'_median' for n in feature_vectors_median.columns]\n",
    "    \n",
    "    feature_vectors_max = pd.concat(feature_vectors_max,axis=1).T\n",
    "    feature_vectors_max.columns = [n+'_max' for n in feature_vectors_max.columns]\n",
    "    \n",
    "    feature_vectors = pd.concat([feature_vectors_mean, feature_vectors_median, feature_vectors_max],axis=1)\n",
    "    feature_vectors[['subreddit', 'author', 'date','docs']] = df_train[['subreddit',  'author', 'date','post']].values\n",
    "    feature_vectors['docs_clean']=docs_clean\n",
    "    feature_cols = list(set(feature_vectors.columns)-set(['subreddit','author','date','docs','docs_clean']))\n",
    "    feature_cols.sort()\n",
    "    feature_vectors= feature_vectors[['subreddit','author','date','docs','docs_clean']+feature_cols]\n",
    "    \n",
    "    return feature_vectors"
   ]
  },
  {
   "cell_type": "markdown",
   "id": "4ba67447-4d36-4dc7-891c-fd336622da9c",
   "metadata": {},
   "source": [
    "# Split into train and test set"
   ]
  },
  {
   "cell_type": "code",
   "execution_count": 4,
   "id": "558647a9-fb82-4cba-9ab3-83a2fe691f41",
   "metadata": {},
   "outputs": [],
   "source": [
    "run_this = False\n",
    "\n",
    "if run_this:\n",
    "\n",
    "    input_dir = './../../../reddit/input/'\n",
    "    df = pd.read_csv(input_dir+'rmhd_27subreddits_1300posts.csv', index_col = 0)\n",
    "    df\n",
    "\n",
    "    # create a test set\n",
    "    seed = 1234\n",
    "    df_train = []\n",
    "    df_test = []\n",
    "    for category in df.subreddit.unique():\n",
    "        df_cat = df[df['subreddit']==category]\n",
    "        df_cat_train = df_cat.sample(frac=0.8, random_state=seed)\n",
    "        other_indexes = [n for n in df_cat.index if n not in df_cat_train.index]\n",
    "        df_cat_test = df_cat.loc[other_indexes]\n",
    "        df_train.append(df_cat_train)\n",
    "        df_test.append(df_cat_test)\n",
    "\n",
    "\n",
    "    df_train = pd.concat(df_train).reset_index(drop = True)\n",
    "    df_test = pd.concat(df_test).reset_index(drop = True)\n",
    "\n",
    "    output_dir = './data/datasets/'\n",
    "    os.makedirs(output_dir, exist_ok=True)\n",
    "    df_train.to_csv(output_dir+'rmhd_27subreddits_1300posts_train.csv')\n",
    "    df_test.to_csv(output_dir+'rmhd_27subreddits_1300posts_test.csv')\n",
    "else:\n",
    "    output_dir = './data/datasets/'\n",
    "    df_train = pd.read_csv(output_dir+'rmhd_27subreddits_1300posts_train.csv', index_col = 0)\n",
    "    df_test = pd.read_csv(output_dir+'rmhd_27subreddits_1300posts_test.csv', index_col = 0)\n",
    "    \n",
    "    \n",
    "    \n",
    "    \n",
    "    \n",
    "    "
   ]
  },
  {
   "cell_type": "code",
   "execution_count": 5,
   "id": "6b3fe393-13a1-4234-b34c-5f0d2d52122b",
   "metadata": {},
   "outputs": [
    {
     "data": {
      "text/html": [
       "<div>\n",
       "<style scoped>\n",
       "    .dataframe tbody tr th:only-of-type {\n",
       "        vertical-align: middle;\n",
       "    }\n",
       "\n",
       "    .dataframe tbody tr th {\n",
       "        vertical-align: top;\n",
       "    }\n",
       "\n",
       "    .dataframe thead th {\n",
       "        text-align: right;\n",
       "    }\n",
       "</style>\n",
       "<table border=\"1\" class=\"dataframe\">\n",
       "  <thead>\n",
       "    <tr style=\"text-align: right;\">\n",
       "      <th></th>\n",
       "      <th>subreddit</th>\n",
       "      <th>author</th>\n",
       "      <th>date</th>\n",
       "      <th>post</th>\n",
       "      <th>automated_readability_index</th>\n",
       "      <th>coleman_liau_index</th>\n",
       "      <th>flesch_kincaid_grade_level</th>\n",
       "      <th>flesch_reading_ease</th>\n",
       "      <th>gulpease_index</th>\n",
       "      <th>gunning_fog_index</th>\n",
       "      <th>...</th>\n",
       "      <th>tfidf_wish</th>\n",
       "      <th>tfidf_without</th>\n",
       "      <th>tfidf_wonder</th>\n",
       "      <th>tfidf_work</th>\n",
       "      <th>tfidf_worri</th>\n",
       "      <th>tfidf_wors</th>\n",
       "      <th>tfidf_would</th>\n",
       "      <th>tfidf_wrong</th>\n",
       "      <th>tfidf_x200b</th>\n",
       "      <th>tfidf_year</th>\n",
       "    </tr>\n",
       "  </thead>\n",
       "  <tbody>\n",
       "    <tr>\n",
       "      <th>0</th>\n",
       "      <td>EDAnonymous</td>\n",
       "      <td>lillylourose</td>\n",
       "      <td>2018/11/28</td>\n",
       "      <td>The reason why I stoped with eating? Well, for...</td>\n",
       "      <td>0.478964</td>\n",
       "      <td>2.747789</td>\n",
       "      <td>2.109524</td>\n",
       "      <td>95.205000</td>\n",
       "      <td>86.583333</td>\n",
       "      <td>4.761905</td>\n",
       "      <td>...</td>\n",
       "      <td>0.0</td>\n",
       "      <td>0.000000</td>\n",
       "      <td>0.0</td>\n",
       "      <td>0.0</td>\n",
       "      <td>0.0</td>\n",
       "      <td>0.0</td>\n",
       "      <td>0.000000</td>\n",
       "      <td>0.000000</td>\n",
       "      <td>0.00000</td>\n",
       "      <td>0.0</td>\n",
       "    </tr>\n",
       "    <tr>\n",
       "      <th>1</th>\n",
       "      <td>EDAnonymous</td>\n",
       "      <td>tinyTRONgirl</td>\n",
       "      <td>2019/10/15</td>\n",
       "      <td>I’m freaking out WHY can’t my body just digest...</td>\n",
       "      <td>5.559945</td>\n",
       "      <td>5.475852</td>\n",
       "      <td>6.247874</td>\n",
       "      <td>80.769913</td>\n",
       "      <td>67.394161</td>\n",
       "      <td>8.309854</td>\n",
       "      <td>...</td>\n",
       "      <td>0.0</td>\n",
       "      <td>0.000000</td>\n",
       "      <td>0.0</td>\n",
       "      <td>0.0</td>\n",
       "      <td>0.0</td>\n",
       "      <td>0.0</td>\n",
       "      <td>0.131764</td>\n",
       "      <td>0.000000</td>\n",
       "      <td>0.00000</td>\n",
       "      <td>0.0</td>\n",
       "    </tr>\n",
       "    <tr>\n",
       "      <th>2</th>\n",
       "      <td>EDAnonymous</td>\n",
       "      <td>Vetmyana</td>\n",
       "      <td>2019/07/02</td>\n",
       "      <td>Tw weight loss achievement Just lost 8lbs (wei...</td>\n",
       "      <td>2.546452</td>\n",
       "      <td>4.004821</td>\n",
       "      <td>3.520194</td>\n",
       "      <td>91.910290</td>\n",
       "      <td>75.451613</td>\n",
       "      <td>4.960000</td>\n",
       "      <td>...</td>\n",
       "      <td>0.0</td>\n",
       "      <td>0.254812</td>\n",
       "      <td>0.0</td>\n",
       "      <td>0.0</td>\n",
       "      <td>0.0</td>\n",
       "      <td>0.0</td>\n",
       "      <td>0.000000</td>\n",
       "      <td>0.000000</td>\n",
       "      <td>0.00000</td>\n",
       "      <td>0.0</td>\n",
       "    </tr>\n",
       "    <tr>\n",
       "      <th>3</th>\n",
       "      <td>EDAnonymous</td>\n",
       "      <td>Fastingcametome</td>\n",
       "      <td>2019/07/25</td>\n",
       "      <td>When not eating is your solution to everything...</td>\n",
       "      <td>0.836122</td>\n",
       "      <td>2.859536</td>\n",
       "      <td>2.359891</td>\n",
       "      <td>95.598204</td>\n",
       "      <td>82.741497</td>\n",
       "      <td>5.824762</td>\n",
       "      <td>...</td>\n",
       "      <td>0.0</td>\n",
       "      <td>0.000000</td>\n",
       "      <td>0.0</td>\n",
       "      <td>0.0</td>\n",
       "      <td>0.0</td>\n",
       "      <td>0.0</td>\n",
       "      <td>0.000000</td>\n",
       "      <td>0.145753</td>\n",
       "      <td>0.00000</td>\n",
       "      <td>0.0</td>\n",
       "    </tr>\n",
       "    <tr>\n",
       "      <th>4</th>\n",
       "      <td>EDAnonymous</td>\n",
       "      <td>bananamo7</td>\n",
       "      <td>2019/04/19</td>\n",
       "      <td>How to dedicate a long weekend to beginning re...</td>\n",
       "      <td>5.119444</td>\n",
       "      <td>6.724697</td>\n",
       "      <td>6.719444</td>\n",
       "      <td>70.932500</td>\n",
       "      <td>69.185185</td>\n",
       "      <td>10.585185</td>\n",
       "      <td>...</td>\n",
       "      <td>0.0</td>\n",
       "      <td>0.000000</td>\n",
       "      <td>0.0</td>\n",
       "      <td>0.0</td>\n",
       "      <td>0.0</td>\n",
       "      <td>0.0</td>\n",
       "      <td>0.000000</td>\n",
       "      <td>0.000000</td>\n",
       "      <td>0.00000</td>\n",
       "      <td>0.0</td>\n",
       "    </tr>\n",
       "    <tr>\n",
       "      <th>...</th>\n",
       "      <td>...</td>\n",
       "      <td>...</td>\n",
       "      <td>...</td>\n",
       "      <td>...</td>\n",
       "      <td>...</td>\n",
       "      <td>...</td>\n",
       "      <td>...</td>\n",
       "      <td>...</td>\n",
       "      <td>...</td>\n",
       "      <td>...</td>\n",
       "      <td>...</td>\n",
       "      <td>...</td>\n",
       "      <td>...</td>\n",
       "      <td>...</td>\n",
       "      <td>...</td>\n",
       "      <td>...</td>\n",
       "      <td>...</td>\n",
       "      <td>...</td>\n",
       "      <td>...</td>\n",
       "      <td>...</td>\n",
       "      <td>...</td>\n",
       "    </tr>\n",
       "    <tr>\n",
       "      <th>28075</th>\n",
       "      <td>unitedkingdom</td>\n",
       "      <td>Anomalous-Entity</td>\n",
       "      <td>2019/05/07</td>\n",
       "      <td>When someone is having a go at the U.S. and ma...</td>\n",
       "      <td>1.758324</td>\n",
       "      <td>4.527215</td>\n",
       "      <td>4.326374</td>\n",
       "      <td>77.275769</td>\n",
       "      <td>88.038462</td>\n",
       "      <td>6.048352</td>\n",
       "      <td>...</td>\n",
       "      <td>0.0</td>\n",
       "      <td>0.000000</td>\n",
       "      <td>0.0</td>\n",
       "      <td>0.0</td>\n",
       "      <td>0.0</td>\n",
       "      <td>0.0</td>\n",
       "      <td>0.258879</td>\n",
       "      <td>0.000000</td>\n",
       "      <td>0.00000</td>\n",
       "      <td>0.0</td>\n",
       "    </tr>\n",
       "    <tr>\n",
       "      <th>28076</th>\n",
       "      <td>unitedkingdom</td>\n",
       "      <td>Squigglish</td>\n",
       "      <td>2019/03/28</td>\n",
       "      <td>My MP voted against every single Indicative Mo...</td>\n",
       "      <td>6.098205</td>\n",
       "      <td>9.032098</td>\n",
       "      <td>6.976923</td>\n",
       "      <td>52.759744</td>\n",
       "      <td>104.384615</td>\n",
       "      <td>7.887179</td>\n",
       "      <td>...</td>\n",
       "      <td>0.0</td>\n",
       "      <td>0.000000</td>\n",
       "      <td>0.0</td>\n",
       "      <td>0.0</td>\n",
       "      <td>0.0</td>\n",
       "      <td>0.0</td>\n",
       "      <td>0.000000</td>\n",
       "      <td>0.000000</td>\n",
       "      <td>0.00000</td>\n",
       "      <td>0.0</td>\n",
       "    </tr>\n",
       "    <tr>\n",
       "      <th>28077</th>\n",
       "      <td>unitedkingdom</td>\n",
       "      <td>javaxcore</td>\n",
       "      <td>2019/09/02</td>\n",
       "      <td>What is Order 66? I have heard much talk of th...</td>\n",
       "      <td>0.761500</td>\n",
       "      <td>2.701924</td>\n",
       "      <td>1.290000</td>\n",
       "      <td>103.625000</td>\n",
       "      <td>82.500000</td>\n",
       "      <td>4.000000</td>\n",
       "      <td>...</td>\n",
       "      <td>0.0</td>\n",
       "      <td>0.000000</td>\n",
       "      <td>0.0</td>\n",
       "      <td>0.0</td>\n",
       "      <td>0.0</td>\n",
       "      <td>0.0</td>\n",
       "      <td>0.000000</td>\n",
       "      <td>0.000000</td>\n",
       "      <td>0.00000</td>\n",
       "      <td>0.0</td>\n",
       "    </tr>\n",
       "    <tr>\n",
       "      <th>28078</th>\n",
       "      <td>unitedkingdom</td>\n",
       "      <td>AlwaysGoForAusInRisk</td>\n",
       "      <td>2019/05/13</td>\n",
       "      <td>Seeing the GB Ambassador for Denmark today at ...</td>\n",
       "      <td>8.632452</td>\n",
       "      <td>8.773091</td>\n",
       "      <td>9.139258</td>\n",
       "      <td>61.853071</td>\n",
       "      <td>60.968504</td>\n",
       "      <td>12.296513</td>\n",
       "      <td>...</td>\n",
       "      <td>0.0</td>\n",
       "      <td>0.000000</td>\n",
       "      <td>0.0</td>\n",
       "      <td>0.0</td>\n",
       "      <td>0.0</td>\n",
       "      <td>0.0</td>\n",
       "      <td>0.000000</td>\n",
       "      <td>0.000000</td>\n",
       "      <td>0.00000</td>\n",
       "      <td>0.0</td>\n",
       "    </tr>\n",
       "    <tr>\n",
       "      <th>28079</th>\n",
       "      <td>unitedkingdom</td>\n",
       "      <td>Tyros43</td>\n",
       "      <td>2018/12/13</td>\n",
       "      <td>As an outsider looking in... As an outsider lo...</td>\n",
       "      <td>8.596646</td>\n",
       "      <td>7.857937</td>\n",
       "      <td>8.542880</td>\n",
       "      <td>68.991282</td>\n",
       "      <td>61.405063</td>\n",
       "      <td>11.444304</td>\n",
       "      <td>...</td>\n",
       "      <td>0.0</td>\n",
       "      <td>0.000000</td>\n",
       "      <td>0.0</td>\n",
       "      <td>0.0</td>\n",
       "      <td>0.0</td>\n",
       "      <td>0.0</td>\n",
       "      <td>0.000000</td>\n",
       "      <td>0.341362</td>\n",
       "      <td>0.37938</td>\n",
       "      <td>0.0</td>\n",
       "    </tr>\n",
       "  </tbody>\n",
       "</table>\n",
       "<p>28080 rows × 350 columns</p>\n",
       "</div>"
      ],
      "text/plain": [
       "           subreddit                author        date  \\\n",
       "0        EDAnonymous          lillylourose  2018/11/28   \n",
       "1        EDAnonymous          tinyTRONgirl  2019/10/15   \n",
       "2        EDAnonymous              Vetmyana  2019/07/02   \n",
       "3        EDAnonymous       Fastingcametome  2019/07/25   \n",
       "4        EDAnonymous             bananamo7  2019/04/19   \n",
       "...              ...                   ...         ...   \n",
       "28075  unitedkingdom      Anomalous-Entity  2019/05/07   \n",
       "28076  unitedkingdom            Squigglish  2019/03/28   \n",
       "28077  unitedkingdom             javaxcore  2019/09/02   \n",
       "28078  unitedkingdom  AlwaysGoForAusInRisk  2019/05/13   \n",
       "28079  unitedkingdom               Tyros43  2018/12/13   \n",
       "\n",
       "                                                    post  \\\n",
       "0      The reason why I stoped with eating? Well, for...   \n",
       "1      I’m freaking out WHY can’t my body just digest...   \n",
       "2      Tw weight loss achievement Just lost 8lbs (wei...   \n",
       "3      When not eating is your solution to everything...   \n",
       "4      How to dedicate a long weekend to beginning re...   \n",
       "...                                                  ...   \n",
       "28075  When someone is having a go at the U.S. and ma...   \n",
       "28076  My MP voted against every single Indicative Mo...   \n",
       "28077  What is Order 66? I have heard much talk of th...   \n",
       "28078  Seeing the GB Ambassador for Denmark today at ...   \n",
       "28079  As an outsider looking in... As an outsider lo...   \n",
       "\n",
       "       automated_readability_index  coleman_liau_index  \\\n",
       "0                         0.478964            2.747789   \n",
       "1                         5.559945            5.475852   \n",
       "2                         2.546452            4.004821   \n",
       "3                         0.836122            2.859536   \n",
       "4                         5.119444            6.724697   \n",
       "...                            ...                 ...   \n",
       "28075                     1.758324            4.527215   \n",
       "28076                     6.098205            9.032098   \n",
       "28077                     0.761500            2.701924   \n",
       "28078                     8.632452            8.773091   \n",
       "28079                     8.596646            7.857937   \n",
       "\n",
       "       flesch_kincaid_grade_level  flesch_reading_ease  gulpease_index  \\\n",
       "0                        2.109524            95.205000       86.583333   \n",
       "1                        6.247874            80.769913       67.394161   \n",
       "2                        3.520194            91.910290       75.451613   \n",
       "3                        2.359891            95.598204       82.741497   \n",
       "4                        6.719444            70.932500       69.185185   \n",
       "...                           ...                  ...             ...   \n",
       "28075                    4.326374            77.275769       88.038462   \n",
       "28076                    6.976923            52.759744      104.384615   \n",
       "28077                    1.290000           103.625000       82.500000   \n",
       "28078                    9.139258            61.853071       60.968504   \n",
       "28079                    8.542880            68.991282       61.405063   \n",
       "\n",
       "       gunning_fog_index  ...  tfidf_wish  tfidf_without  tfidf_wonder  \\\n",
       "0               4.761905  ...         0.0       0.000000           0.0   \n",
       "1               8.309854  ...         0.0       0.000000           0.0   \n",
       "2               4.960000  ...         0.0       0.254812           0.0   \n",
       "3               5.824762  ...         0.0       0.000000           0.0   \n",
       "4              10.585185  ...         0.0       0.000000           0.0   \n",
       "...                  ...  ...         ...            ...           ...   \n",
       "28075           6.048352  ...         0.0       0.000000           0.0   \n",
       "28076           7.887179  ...         0.0       0.000000           0.0   \n",
       "28077           4.000000  ...         0.0       0.000000           0.0   \n",
       "28078          12.296513  ...         0.0       0.000000           0.0   \n",
       "28079          11.444304  ...         0.0       0.000000           0.0   \n",
       "\n",
       "       tfidf_work  tfidf_worri  tfidf_wors  tfidf_would  tfidf_wrong  \\\n",
       "0             0.0          0.0         0.0     0.000000     0.000000   \n",
       "1             0.0          0.0         0.0     0.131764     0.000000   \n",
       "2             0.0          0.0         0.0     0.000000     0.000000   \n",
       "3             0.0          0.0         0.0     0.000000     0.145753   \n",
       "4             0.0          0.0         0.0     0.000000     0.000000   \n",
       "...           ...          ...         ...          ...          ...   \n",
       "28075         0.0          0.0         0.0     0.258879     0.000000   \n",
       "28076         0.0          0.0         0.0     0.000000     0.000000   \n",
       "28077         0.0          0.0         0.0     0.000000     0.000000   \n",
       "28078         0.0          0.0         0.0     0.000000     0.000000   \n",
       "28079         0.0          0.0         0.0     0.000000     0.341362   \n",
       "\n",
       "       tfidf_x200b  tfidf_year  \n",
       "0          0.00000         0.0  \n",
       "1          0.00000         0.0  \n",
       "2          0.00000         0.0  \n",
       "3          0.00000         0.0  \n",
       "4          0.00000         0.0  \n",
       "...            ...         ...  \n",
       "28075      0.00000         0.0  \n",
       "28076      0.00000         0.0  \n",
       "28077      0.00000         0.0  \n",
       "28078      0.00000         0.0  \n",
       "28079      0.37938         0.0  \n",
       "\n",
       "[28080 rows x 350 columns]"
      ]
     },
     "execution_count": 5,
     "metadata": {},
     "output_type": "execute_result"
    }
   ],
   "source": [
    "df_train"
   ]
  },
  {
   "cell_type": "markdown",
   "id": "54d582fc-25be-45a3-91d3-df9eb9575b27",
   "metadata": {},
   "source": [
    "# Choose subreddits to test method on"
   ]
  },
  {
   "cell_type": "code",
   "execution_count": null,
   "id": "2f856dfb-6d77-4459-89be-aef04de248b2",
   "metadata": {},
   "outputs": [],
   "source": []
  },
  {
   "cell_type": "code",
   "execution_count": 6,
   "id": "3d92361d-312e-4efb-8aeb-8388aec646b7",
   "metadata": {},
   "outputs": [
    {
     "data": {
      "text/plain": [
       "array(['EDAnonymous', 'ForeverAlone', 'UKPersonalFinance', 'addiction',\n",
       "       'adhd', 'alcoholism', 'anxiety', 'autism', 'bipolarreddit', 'bpd',\n",
       "       'conspiracy', 'depression', 'divorce', 'guns', 'healthanxiety',\n",
       "       'legaladvice', 'lonely', 'mentalhealth', 'mindfulness',\n",
       "       'personalfinance', 'ptsd', 'schizophrenia', 'socialanxiety',\n",
       "       'suicidewatch', 'teaching', 'ukpolitics', 'unitedkingdom'],\n",
       "      dtype=object)"
      ]
     },
     "execution_count": 6,
     "metadata": {},
     "output_type": "execute_result"
    }
   ],
   "source": [
    "df_train.subreddit.unique()"
   ]
  },
  {
   "cell_type": "code",
   "execution_count": null,
   "id": "cb57d462-c7eb-44ed-b2d0-0c3475e1a6b4",
   "metadata": {},
   "outputs": [],
   "source": []
  },
  {
   "cell_type": "markdown",
   "id": "90e9d35a-1e59-4ea6-8a3b-a70f7d76cea3",
   "metadata": {},
   "source": [
    "Word-based: \n",
    "- glove, bert, sense disambiguation bert\n",
    "\n",
    "Phrase based:\n",
    "- bert, sense disambiguation bert\n",
    "\n",
    "1. clause detection\n",
    "2. Use the pairwise comparison keybert but with phrases (not ngrams)"
   ]
  },
  {
   "cell_type": "code",
   "execution_count": 7,
   "id": "a3d121e7-edc6-4e98-9482-659f74aa9a1f",
   "metadata": {},
   "outputs": [
    {
     "data": {
      "text/plain": [
       "<AxesSubplot:ylabel='constructs'>"
      ]
     },
     "execution_count": 7,
     "metadata": {},
     "output_type": "execute_result"
    },
    {
     "data": {
      "image/png": "[encoded data removed]",
      "text/plain": [
       "<Figure size 432x288 with 2 Axes>"
      ]
     },
     "metadata": {
      "needs_background": "light"
     },
     "output_type": "display_data"
    }
   ],
   "source": [
    "theoretical_similarities = pd.read_csv('data/concept_tracker_experiments/theoretical_similarities.csv', header=1,index_col=0)\n",
    "sns.heatmap(theoretical_similarities)"
   ]
  },
  {
   "cell_type": "code",
   "execution_count": 8,
   "id": "abe5f16c-1d62-44de-bc62-9612a040d6e1",
   "metadata": {},
   "outputs": [
    {
     "name": "stdout",
     "output_type": "stream",
     "text": [
      "['mindfulness', 'personalfinance', 'anxiety', 'schizophrenia', 'lonely', 'depression', 'suicidewatch'] ['happy', 'calm', 'debt', 'worried', 'restless', 'irritated', 'insomnia', 'tired', 'psychotic', 'hallucinating', 'lonely', 'sad', 'worthless', 'burden', 'hopeless', 'suicidal']\n"
     ]
    }
   ],
   "source": [
    "subreddits = theoretical_similarities.columns.tolist()\n",
    "constructs = theoretical_similarities.index.tolist()\n",
    "print(subreddits, \n",
    "      constructs)"
   ]
  },
  {
   "cell_type": "code",
   "execution_count": 9,
   "id": "e99e36a8-8645-4b85-bd94-eb45b104ceee",
   "metadata": {},
   "outputs": [],
   "source": [
    "df_train = df_train[df_train['subreddit'].isin(subreddits)]\n",
    "# df_test = df_test[df_test['subreddit'].isin(subreddits)]"
   ]
  },
  {
   "cell_type": "code",
   "execution_count": 10,
   "id": "506c82d2-bd1f-4c39-a004-5a372cd97412",
   "metadata": {},
   "outputs": [
    {
     "data": {
      "text/plain": [
       "7280"
      ]
     },
     "execution_count": 10,
     "metadata": {},
     "output_type": "execute_result"
    }
   ],
   "source": [
    "# docs = [\"I am sad but hopeful.\", \"My grandmother who lives by Orlando is nice while she's drunk\", \"If I bought a gun, I plan on using it\", \"I am a boy and I am 18\"]\n",
    "docs = df_train.post.values\n",
    "len(docs)"
   ]
  },
  {
   "cell_type": "code",
   "execution_count": 11,
   "id": "e3d43d29-d7d9-4629-baa8-43cbfa7a7ff9",
   "metadata": {},
   "outputs": [],
   "source": [
    "# Minimal example\n",
    "# model='en_core_web_sm'\n",
    "# nlp = spacy.load(model)\n",
    "# docs = nlp.pipe(['I feel consumed by pain'])\n",
    "# for doc in docs:\n",
    "#     for sent in doc.sents:\n",
    "#         words = [(n.tag_, n.text, n.pos_) for n in sent]\n",
    "#         break\n",
    "#     break"
   ]
  },
  {
   "cell_type": "markdown",
   "id": "a06282fe-2b53-4bb3-aa47-9576c34f7c71",
   "metadata": {},
   "source": [
    "# Tokenize into clauses"
   ]
  },
  {
   "cell_type": "code",
   "execution_count": 12,
   "id": "72b6df4c-a33b-48c3-b1b6-9e796387f0d4",
   "metadata": {},
   "outputs": [],
   "source": [
    "# docs_tokenized = spacy_tokenizer(docs, display_tree=False, remove_punct=True, \n",
    "#                                  clause_remove_conj = True)\n",
    "# docs_tokenized"
   ]
  },
  {
   "cell_type": "markdown",
   "id": "f10ceff9-12a0-4498-b4f7-65b2c198da2f",
   "metadata": {},
   "source": [
    "# Remove punctuation and stopwords"
   ]
  },
  {
   "cell_type": "code",
   "execution_count": 13,
   "id": "da786490-0444-40ab-9fe8-98c8c78be904",
   "metadata": {},
   "outputs": [
    {
     "data": {
      "text/plain": [
       "['i', 'me', 'my', 'myself', 'we']"
      ]
     },
     "execution_count": 13,
     "metadata": {},
     "output_type": "execute_result"
    }
   ],
   "source": [
    "sws = stop_words.return_stopwords(language = 'en', method = 'nltk')\n",
    "sws[:5]"
   ]
  },
  {
   "cell_type": "code",
   "execution_count": 14,
   "id": "c7f6130d-f0a8-4aff-aae5-b104adeb292a",
   "metadata": {},
   "outputs": [
    {
     "data": {
      "text/plain": [
       "True"
      ]
     },
     "execution_count": 14,
     "metadata": {},
     "output_type": "execute_result"
    }
   ],
   "source": [
    "'just' in sws"
   ]
  },
  {
   "cell_type": "code",
   "execution_count": 15,
   "id": "1ab666ca-5163-40d4-aa41-e6ecf5962ee3",
   "metadata": {},
   "outputs": [],
   "source": [
    "more_sws = ['ca', 'nt','like', \"'\", \"´\", \"n’t\"]"
   ]
  },
  {
   "cell_type": "code",
   "execution_count": 17,
   "id": "5da37b53-67c7-458e-a5d2-0c28186343f4",
   "metadata": {},
   "outputs": [
    {
     "name": "stdout",
     "output_type": "stream",
     "text": [
      "CPU times: user 6 µs, sys: 0 ns, total: 6 µs\n",
      "Wall time: 11.9 µs\n"
     ]
    }
   ],
   "source": [
    "%%time\n",
    "\n",
    "run_this = False\n",
    "if run_this:\n",
    "    from utils import clean\n",
    "    docs_clean = stop_words.remove(docs, language = 'en', method = 'nltk', remove_punct=True, extend_stopwords=more_sws)\n",
    "    docs_clean = [n.replace('ampx200b', '').replace('\\n','') for n in docs_clean]\n",
    "    docs_clean = [clean.remove_multiple_spaces(doc) for doc in docs_clean]\n",
    "\n",
    "    # docs_clean = spacy_lemmatizer(docs_clean, language ='en') #this takes 22s for 5200 docs\n"
   ]
  },
  {
   "cell_type": "code",
   "execution_count": null,
   "id": "8db7b923-fd62-479e-876a-aba3d91358fe",
   "metadata": {},
   "outputs": [],
   "source": []
  },
  {
   "cell_type": "markdown",
   "id": "1a5ee9c0-a9b6-47a9-ae8f-860709c97811",
   "metadata": {},
   "source": [
    "# Encode into word embeddings and compute similarity between tokens and category embeddings"
   ]
  },
  {
   "cell_type": "code",
   "execution_count": null,
   "id": "f10466dc-70c4-4327-b1fa-7237e2e4c338",
   "metadata": {},
   "outputs": [],
   "source": []
  },
  {
   "cell_type": "code",
   "execution_count": 18,
   "id": "b8d73b89-c904-4411-8863-41da2600c7dc",
   "metadata": {},
   "outputs": [
    {
     "name": "stdout",
     "output_type": "stream",
     "text": [
      "CPU times: user 5 µs, sys: 2 µs, total: 7 µs\n",
      "Wall time: 11.2 µs\n"
     ]
    }
   ],
   "source": [
    "%%time\n",
    "# docs_clean = spacy_lemmatizer(docs_clean, language ='en') #this takes 22s for 5200 docs"
   ]
  },
  {
   "cell_type": "code",
   "execution_count": 19,
   "id": "13462f1d-a651-45f3-a440-6c9b394e4686",
   "metadata": {},
   "outputs": [],
   "source": [
    "\n",
    "embedding_name_type = {\n",
    "#    model_name:embedding_type \n",
    "    'glove': 'word',\n",
    "    'all-MiniLM-L6-v2': 'sentence',\n",
    "    # 'all-MiniLM-L6-v2': 'document',\n",
    "    'mnaylor/psychbert-cased': 'document',# need to fix\n",
    "    \n",
    "    \n",
    "    \n",
    "    \n",
    "}"
   ]
  },
  {
   "cell_type": "code",
   "execution_count": 20,
   "id": "f1c37f80-7aa4-4d83-894a-8e1e911c7131",
   "metadata": {},
   "outputs": [],
   "source": [
    "output_dir = './data/concept_tracker_experiments/direct_similarity/'"
   ]
  },
  {
   "cell_type": "code",
   "execution_count": 21,
   "id": "fd8eae9f-6913-41c2-a2af-ec446ca2f092",
   "metadata": {},
   "outputs": [],
   "source": [
    "# filename = model_name.split('/')[-1]\n",
    "# filename"
   ]
  },
  {
   "cell_type": "code",
   "execution_count": 22,
   "id": "eb2f5bf2-78cc-4442-8cce-240471772a53",
   "metadata": {},
   "outputs": [],
   "source": [
    "# docs_clean2 = docs_clean[:10]\n",
    "# df_train2 = df_train.iloc[:10,:]"
   ]
  },
  {
   "cell_type": "markdown",
   "id": "5c73e7f1-eb31-428c-bef5-91c954d9a8ab",
   "metadata": {},
   "source": [
    "# may need to do on Colab with GPU or cluster"
   ]
  },
  {
   "cell_type": "code",
   "execution_count": 37,
   "id": "ff6f1278-6366-4b86-9b78-26fc49532b1c",
   "metadata": {},
   "outputs": [
    {
     "data": {
      "text/plain": [
       "[\"How many people here work and had a hard time being around new people? I know my anxiety has made it hard for me to get a job in the past. When i talk to strangers it's one they I'll probably not seem them again, but with coworkers you see them every day. \\n\\nHow do you introduce yourself and what do you all say when first meeting them. Also when and if someone asked what you do for fun or what your hobbies were what did you say. Because again i know anxiety can make it hard for people to go out and do things. And i feel like saying  watching tv, reading, fishing are all kinda boring and introverted answers. \\n\\nI wanna be able to go out maybe make friends with the new coworkers but idk how to come off as a fun person and that i'm open to going to the bar or something after work or hanging out. \\n\\nI'm not a interesting person and as shitty as it sounds i kinda just wanna do my job and leave but i know i have to be social, i can't just be someone who ignores everyone.\",\n",
       " \"How to deal with brothers girlfriend I'm 16 yr female and my brother has had a girlfriend for 6 months now and I've been trying to deal with it and at first it was okay but I just can't anymore I feel so stressed and uncomfortable in my own home all the time and she stays over most nights. They are quite loud and I can hear them from my room which is at times disturbing and others very annoying, I just haven't been able to sleep lately and I don't know who to talk to. I don't want to come off as disruptive to the family but I just wish I could move out. They're all over eachother 24/7 tbh I don't really want to see that. I honestly can't stand them being so loved up anymore, I never want a boyfriend in the future if it makes me act like that. I just miss the times when my home felt like my home.\",\n",
       " \"Break-in anxiety advice desperately needed So i think my house has been broken into for the second time (first time was at a different house), but i have hundreds of dollars missing. They only took larger billls and left only singles and fives. I dont know what to do. The police weren't any help the first time so i dont think they would be any help this time. I dont know what to. Any advice on how to calm my anxiety on this would help. I thought moving houses would help but its happened again and i feel so hopless.\",\n",
       " \"I really cannot deal with living like this. I feel anxious to the point where I feel numb sometimes, or I feel like I'm going insane, it's so bad that I can't do day to day things without it effecting me. I just need some help, this is kind of a last ditch effort to make myself happy and normal. I've been so anxious my whole life, I just got on medication a couple months ago, I'm on Zoloft 150mg but that's mainly for depression, I want to know what really make anxiety go away, the most successful/best anxiety medication for severe anxiety. I'm really hoping I can find a medication or something that can make me feel like me again.\",\n",
       " 'Can someone track my flight? Flying DFW to MIA any minute. I always get nervous but am extra anxious today, but have been lately. It always makes me feel a little better knowing someone is tracking. My fiancé always does it for me when I have to fly alone but we’re flying together. Original departure time was 10:24 landing 2:40ish with AA. Thanks so much if ya do and happy new year. I’ll return the favor for anyone in future if I survive this thing ;) ',\n",
       " 'Um hey Not sure this is important, but I went out eating alone for the first time! It went ok, I had trouble ordering, but other wise ok.']"
      ]
     },
     "execution_count": 37,
     "metadata": {},
     "output_type": "execute_result"
    }
   ],
   "source": [
    "# docs_toy = docs_clean[:6]\n",
    "docs = list(docs[:6])\n",
    "docs"
   ]
  },
  {
   "cell_type": "code",
   "execution_count": 43,
   "id": "57fd4970-20a1-4ab6-bae7-5739eedca2ae",
   "metadata": {},
   "outputs": [
    {
     "name": "stdout",
     "output_type": "stream",
     "text": [
      "docs x embedding size: (6, 384)\n",
      "docs x embedding size: (6, 384)\n",
      "docs x embedding size: (6, 384)\n",
      "docs x embedding size: (6, 384)\n",
      "docs x embedding size: (6, 384)\n",
      "docs x embedding size: (6, 384)\n",
      "docs x embedding size: (6, 384)\n",
      "docs x embedding size: (6, 384)\n",
      "4.67 s ± 198 ms per loop (mean ± std. dev. of 7 runs, 1 loop each)\n"
     ]
    }
   ],
   "source": [
    "%%timeit\n",
    "embeddings1 = vectorize(docs, package = 'sentence_transformers', model_name = 'all-MiniLM-L6-v2', embedding_type = 'sentence')"
   ]
  },
  {
   "cell_type": "code",
   "execution_count": 31,
   "id": "1a969dab-eccb-4eee-8906-0ba11859e3b7",
   "metadata": {},
   "outputs": [
    {
     "name": "stdout",
     "output_type": "stream",
     "text": [
      "(6, 384)\n"
     ]
    }
   ],
   "source": [
    "print(embeddings1.shape)\n"
   ]
  },
  {
   "cell_type": "code",
   "execution_count": 44,
   "id": "bf6158c9-d6d7-406c-a17e-cd5cfbc7607b",
   "metadata": {},
   "outputs": [
    {
     "name": "stdout",
     "output_type": "stream",
     "text": [
      "docs x embedding size: (6, 384)\n",
      "docs x embedding size: (6, 384)\n",
      "docs x embedding size: (6, 384)\n",
      "docs x embedding size: (6, 384)\n",
      "docs x embedding size: (6, 384)\n",
      "docs x embedding size: (6, 384)\n",
      "docs x embedding size: (6, 384)\n",
      "docs x embedding size: (6, 384)\n",
      "4.64 s ± 726 ms per loop (mean ± std. dev. of 7 runs, 1 loop each)\n"
     ]
    }
   ],
   "source": [
    "%%timeit\n",
    "embeddings4 = vectorize(docs, package = 'flair', model_name = 'all-MiniLM-L6-v2', embedding_type = 'sentence')\n"
   ]
  },
  {
   "cell_type": "code",
   "execution_count": 48,
   "id": "bf465f9d-8727-404a-9066-1b07a2d232ed",
   "metadata": {},
   "outputs": [],
   "source": [
    "from flair.embeddings import SentenceTransformerDocumentEmbeddings"
   ]
  },
  {
   "cell_type": "code",
   "execution_count": 50,
   "id": "682ddf4e-c19e-49a9-a466-89392aa3ff7b",
   "metadata": {},
   "outputs": [],
   "source": [
    "from transformers import AutoTokenizer, AutoModel\n",
    "import torch.nn.functional as F\n",
    "\n",
    "# Load model from HuggingFace Hub\n",
    "tokenizer = AutoTokenizer.from_pretrained('sentence-transformers/all-mpnet-base-v2')\n",
    "model = AutoModel.from_pretrained('sentence-transformers/all-mpnet-base-v2')"
   ]
  },
  {
   "cell_type": "code",
   "execution_count": 33,
   "id": "58e44280-692a-49de-8bad-c7e4e2c0e079",
   "metadata": {},
   "outputs": [
    {
     "name": "stdout",
     "output_type": "stream",
     "text": [
      "docs x embedding size: (6, 384)\n",
      "CPU times: user 1.83 s, sys: 68.6 ms, total: 1.9 s\n",
      "Wall time: 3.18 s\n"
     ]
    }
   ],
   "source": [
    "\n",
    "%%time\n",
    "embeddings6 = vectorize(docs, package = 'flair', model_name = 'sentence-transformers/all-MiniLM-L6-v2', embedding_type = 'document')"
   ]
  },
  {
   "cell_type": "code",
   "execution_count": 47,
   "id": "17d608bf-cb0a-4491-812f-be96af7ea6db",
   "metadata": {},
   "outputs": [
    {
     "name": "stdout",
     "output_type": "stream",
     "text": [
      "CPU times: user 8.29 s, sys: 582 ms, total: 8.87 s\n",
      "Wall time: 9.88 s\n"
     ]
    }
   ],
   "source": [
    "\n",
    "%%time\n",
    "embeddings7 = vectorize(docs, package = 'transformers', model_name = 'sentence-transformers/all-MiniLM-L6-v2', embedding_type = 'sentence')"
   ]
  },
  {
   "cell_type": "code",
   "execution_count": 35,
   "id": "f3946ff0-3c89-4a20-b1e2-f63301184c78",
   "metadata": {},
   "outputs": [
    {
     "data": {
      "text/plain": [
       "array([[ True,  True,  True, ...,  True,  True,  True],\n",
       "       [ True,  True,  True, ...,  True,  True,  True],\n",
       "       [False, False,  True, ..., False, False, False],\n",
       "       [False, False, False, ..., False, False,  True],\n",
       "       [ True,  True,  True, ...,  True,  True,  True],\n",
       "       [False, False, False, ..., False, False, False]])"
      ]
     },
     "execution_count": 35,
     "metadata": {},
     "output_type": "execute_result"
    }
   ],
   "source": [
    "embeddings1 == embeddings4"
   ]
  },
  {
   "cell_type": "code",
   "execution_count": 45,
   "id": "04350027-98b4-4a7b-b2d6-67a2dfacf529",
   "metadata": {},
   "outputs": [
    {
     "data": {
      "text/plain": [
       "array([[False, False, False, ..., False, False, False],\n",
       "       [False, False, False, ..., False, False, False],\n",
       "       [False, False, False, ..., False, False, False],\n",
       "       [False, False, False, ..., False, False, False],\n",
       "       [False, False, False, ..., False, False, False],\n",
       "       [False, False, False, ..., False, False, False]])"
      ]
     },
     "execution_count": 45,
     "metadata": {},
     "output_type": "execute_result"
    }
   ],
   "source": [
    "embeddings1 == embeddings6"
   ]
  },
  {
   "cell_type": "code",
   "execution_count": 40,
   "id": "d33b0df0-f2e8-40d9-af96-3d679f513f66",
   "metadata": {},
   "outputs": [
    {
     "data": {
      "text/plain": [
       "array([[-0.02277171, -0.10805278,  0.01971223, ...,  0.08205864,\n",
       "        -0.06165227,  0.04337246],\n",
       "       [ 0.08137938, -0.02030696, -0.05132398, ...,  0.05769289,\n",
       "        -0.06577477, -0.00207761],\n",
       "       [ 0.05749402, -0.02804438,  0.04105259, ..., -0.00172726,\n",
       "        -0.09628459,  0.03997312],\n",
       "       [ 0.00951926, -0.08110527,  0.09098199, ...,  0.00262262,\n",
       "        -0.06013191,  0.03284144],\n",
       "       [ 0.05367722, -0.11676581, -0.0309427 , ...,  0.03174809,\n",
       "        -0.16367418,  0.01410951],\n",
       "       [-0.00254147, -0.0350326 ,  0.01911239, ..., -0.02602109,\n",
       "         0.05524712,  0.02816032]], dtype=float32)"
      ]
     },
     "execution_count": 40,
     "metadata": {},
     "output_type": "execute_result"
    }
   ],
   "source": [
    "embeddings1 "
   ]
  },
  {
   "cell_type": "code",
   "execution_count": 42,
   "id": "a1472033-81f0-4b5f-91c2-632ce3cc7c43",
   "metadata": {},
   "outputs": [
    {
     "data": {
      "text/plain": [
       "array([[-0.02277170866727829, -0.10805278271436691, 0.01971222646534443,\n",
       "        ..., 0.08205863833427429, -0.06165227293968201,\n",
       "        0.04337245598435402],\n",
       "       [0.08137937635183334, -0.02030695602297783, -0.05132397636771202,\n",
       "        ..., 0.057692889124155045, -0.06577476859092712,\n",
       "        -0.0020776099991053343],\n",
       "       [0.05749399960041046, -0.02804434299468994, 0.041052594780921936,\n",
       "        ..., -0.0017272422555834055, -0.09628456085920334,\n",
       "        0.039973143488168716],\n",
       "       [0.009519238956272602, -0.08110525459051132, 0.09098196774721146,\n",
       "        ..., 0.002622605999931693, -0.06013190746307373,\n",
       "        0.03284144029021263],\n",
       "       [0.05367721989750862, -0.1167658120393753, -0.030942704528570175,\n",
       "        ..., 0.03174808621406555, -0.16367417573928833,\n",
       "        0.014109505340456963],\n",
       "       [-0.002541513880714774, -0.03503258153796196, 0.01911240629851818,\n",
       "        ..., -0.026021117344498634, 0.05524717643857002,\n",
       "        0.028160328045487404]], dtype=object)"
      ]
     },
     "execution_count": 42,
     "metadata": {},
     "output_type": "execute_result"
    }
   ],
   "source": [
    "embeddings4"
   ]
  },
  {
   "cell_type": "code",
   "execution_count": 41,
   "id": "9775f2e6-5723-445e-8166-d051afd27b06",
   "metadata": {},
   "outputs": [
    {
     "data": {
      "text/plain": [
       "tensor([[ 0.0328, -0.0419, -0.0062,  ...,  0.0142,  0.0204, -0.0056],\n",
       "        [ 0.0039, -0.0382,  0.0128,  ...,  0.0538,  0.0224,  0.0279],\n",
       "        [-0.0159,  0.0213,  0.0063,  ...,  0.0266,  0.0164,  0.0573],\n",
       "        [ 0.0280, -0.0215,  0.0086,  ..., -0.0357,  0.0489, -0.0489],\n",
       "        [-0.0519,  0.0739, -0.0224,  ...,  0.0046, -0.0064, -0.0191],\n",
       "        [-0.0099,  0.0270, -0.0043,  ...,  0.0040,  0.0431, -0.0182]])"
      ]
     },
     "execution_count": 41,
     "metadata": {},
     "output_type": "execute_result"
    }
   ],
   "source": [
    "embeddings7"
   ]
  },
  {
   "cell_type": "code",
   "execution_count": 46,
   "id": "abaff95c-6b3e-4642-8d56-7ee0c47e8d1a",
   "metadata": {},
   "outputs": [
    {
     "name": "stdout",
     "output_type": "stream",
     "text": [
      "docs x embedding size: (6, 768)\n",
      "docs x embedding size: (6, 768)\n",
      "docs x embedding size: (6, 768)\n",
      "docs x embedding size: (6, 768)\n",
      "docs x embedding size: (6, 768)\n",
      "docs x embedding size: (6, 768)\n",
      "docs x embedding size: (6, 768)\n",
      "docs x embedding size: (6, 768)\n",
      "6.64 s ± 287 ms per loop (mean ± std. dev. of 7 runs, 1 loop each)\n"
     ]
    }
   ],
   "source": [
    "%%timeit\n",
    "embeddings5 = vectorize(docs, package = 'flair', model_name = 'distilroberta-base', embedding_type = 'document')"
   ]
  },
  {
   "cell_type": "code",
   "execution_count": null,
   "id": "d8554a34-22f3-4d10-a6cc-18a4a155e5ec",
   "metadata": {},
   "outputs": [],
   "source": [
    "%time\n",
    "embeddings2 = vectorize(docs, package = 'flair', model_name = 'glove', embedding_type = 'word')\n",
    "embeddings3 = vectorize(docs, package = 'flair', model_name = 'distilbert-base-uncased', embedding_type = 'transformer_word')\n",
    "embeddings5 = vectorize(docs, package = 'flair', model_name = 'distilroberta-base', embedding_type = 'document')\n"
   ]
  },
  {
   "cell_type": "code",
   "execution_count": 87,
   "id": "d08ba22a-b0cc-46ad-ad53-97d5a7d43427",
   "metadata": {},
   "outputs": [
    {
     "data": {
      "text/plain": [
       "dict_items([('glove', 'word'), ('all-MiniLM-L6-v2', 'sentence'), ('mnaylor/psychbert-cased', 'document')])"
      ]
     },
     "execution_count": 87,
     "metadata": {},
     "output_type": "execute_result"
    }
   ],
   "source": [
    "embedding_name_type.items()"
   ]
  },
  {
   "cell_type": "code",
   "execution_count": 88,
   "id": "e960e497-d96e-49ce-8f6f-35bea93a5515",
   "metadata": {},
   "outputs": [
    {
     "name": "stdout",
     "output_type": "stream",
     "text": [
      "all-MiniLM-L6-v2 sentence\n"
     ]
    }
   ],
   "source": [
    "for model_name, embedding_type in embedding_name_type.items():\n",
    "\n",
    "\n",
    "    if model_name in ['glove','mnaylor/psychbert-cased']:\n",
    "        # skip             \n",
    "        continue\n",
    "    print(model_name, embedding_type)"
   ]
  },
  {
   "cell_type": "code",
   "execution_count": null,
   "id": "17215b79-aeb5-4d60-a5e6-1546c686c3bd",
   "metadata": {},
   "outputs": [],
   "source": []
  },
  {
   "cell_type": "code",
   "execution_count": 100,
   "id": "e1357974-acf1-4c88-8da3-1c7c567571b7",
   "metadata": {},
   "outputs": [
    {
     "data": {
      "text/plain": [
       "['happy',\n",
       " 'calm',\n",
       " 'debt',\n",
       " 'worried',\n",
       " 'restless',\n",
       " 'irritated',\n",
       " 'insomnia',\n",
       " 'tired',\n",
       " 'psychotic',\n",
       " 'hallucinating',\n",
       " 'lonely',\n",
       " 'sad',\n",
       " 'worthless',\n",
       " 'burden',\n",
       " 'hopeless',\n",
       " 'suicidal']"
      ]
     },
     "execution_count": 100,
     "metadata": {},
     "output_type": "execute_result"
    }
   ],
   "source": [
    "constructs"
   ]
  },
  {
   "cell_type": "code",
   "execution_count": 99,
   "id": "af7e758c-7b07-4995-9ae2-61b7e2b2484b",
   "metadata": {},
   "outputs": [
    {
     "ename": "ValueError",
     "evalue": "setting an array element with a sequence.",
     "output_type": "error",
     "traceback": [
      "\u001b[0;31m---------------------------------------------------------------------------\u001b[0m",
      "\u001b[0;31mTypeError\u001b[0m                                 Traceback (most recent call last)",
      "\u001b[0;31mTypeError\u001b[0m: only size-1 arrays can be converted to Python scalars",
      "\nThe above exception was the direct cause of the following exception:\n",
      "\u001b[0;31mValueError\u001b[0m                                Traceback (most recent call last)",
      "\u001b[0;32m/var/folders/6f/x95fldf13xn_k25tybdzgtqw0000gn/T/ipykernel_30618/3599954775.py\u001b[0m in \u001b[0;36m<module>\u001b[0;34m\u001b[0m\n\u001b[0;32m----> 1\u001b[0;31m \u001b[0mdf_similarity_token_category\u001b[0m\u001b[0;34m(\u001b[0m\u001b[0membeddings_tokens_doc\u001b[0m\u001b[0;34m,\u001b[0m \u001b[0mconstructs_d\u001b[0m\u001b[0;34m,\u001b[0m \u001b[0mdf_train\u001b[0m\u001b[0;34m,\u001b[0m \u001b[0mdocs_clean\u001b[0m\u001b[0;34m,\u001b[0m \u001b[0msummary_stats\u001b[0m \u001b[0;34m=\u001b[0m \u001b[0;32mNone\u001b[0m\u001b[0;34m)\u001b[0m\u001b[0;34m\u001b[0m\u001b[0;34m\u001b[0m\u001b[0m\n\u001b[0m",
      "\u001b[0;32m/var/folders/6f/x95fldf13xn_k25tybdzgtqw0000gn/T/ipykernel_30618/3130359132.py\u001b[0m in \u001b[0;36mdf_similarity_token_category\u001b[0;34m(embeddings_tokens_doc, constructs_d, df_train, docs_clean, summary_stats)\u001b[0m\n\u001b[1;32m     20\u001b[0m             \u001b[0mdf_scores_category_all\u001b[0m\u001b[0;34m.\u001b[0m\u001b[0mappend\u001b[0m\u001b[0;34m(\u001b[0m\u001b[0mdf_scores_category\u001b[0m\u001b[0;34m)\u001b[0m\u001b[0;34m\u001b[0m\u001b[0;34m\u001b[0m\u001b[0m\n\u001b[1;32m     21\u001b[0m         \u001b[0mdf_scores_category_all\u001b[0m \u001b[0;34m=\u001b[0m \u001b[0mpd\u001b[0m\u001b[0;34m.\u001b[0m\u001b[0mconcat\u001b[0m\u001b[0;34m(\u001b[0m\u001b[0mdf_scores_category_all\u001b[0m\u001b[0;34m,\u001b[0m \u001b[0maxis\u001b[0m\u001b[0;34m=\u001b[0m\u001b[0;36m1\u001b[0m\u001b[0;34m)\u001b[0m\u001b[0;34m\u001b[0m\u001b[0;34m\u001b[0m\u001b[0m\n\u001b[0;32m---> 22\u001b[0;31m         \u001b[0mdf_scores_category_all\u001b[0m \u001b[0;34m=\u001b[0m \u001b[0mdf_scores_category_all\u001b[0m\u001b[0;34m[\u001b[0m\u001b[0mconstructs\u001b[0m\u001b[0;34m]\u001b[0m\u001b[0;34m.\u001b[0m\u001b[0mastype\u001b[0m\u001b[0;34m(\u001b[0m\u001b[0mfloat\u001b[0m\u001b[0;34m)\u001b[0m\u001b[0;34m\u001b[0m\u001b[0;34m\u001b[0m\u001b[0m\n\u001b[0m\u001b[1;32m     23\u001b[0m         \u001b[0mfeature_vectors_mean\u001b[0m\u001b[0;34m.\u001b[0m\u001b[0mappend\u001b[0m\u001b[0;34m(\u001b[0m\u001b[0mdf_scores_category_all\u001b[0m\u001b[0;34m.\u001b[0m\u001b[0mmean\u001b[0m\u001b[0;34m(\u001b[0m\u001b[0;34m)\u001b[0m\u001b[0;34m)\u001b[0m\u001b[0;34m\u001b[0m\u001b[0;34m\u001b[0m\u001b[0m\n\u001b[1;32m     24\u001b[0m         \u001b[0mfeature_vectors_median\u001b[0m\u001b[0;34m.\u001b[0m\u001b[0mappend\u001b[0m\u001b[0;34m(\u001b[0m\u001b[0mdf_scores_category_all\u001b[0m\u001b[0;34m.\u001b[0m\u001b[0mmedian\u001b[0m\u001b[0;34m(\u001b[0m\u001b[0;34m)\u001b[0m\u001b[0;34m)\u001b[0m\u001b[0;34m\u001b[0m\u001b[0;34m\u001b[0m\u001b[0m\n",
      "\u001b[0;32m~/miniconda3/envs/catpro/lib/python3.7/site-packages/pandas/core/generic.py\u001b[0m in \u001b[0;36mastype\u001b[0;34m(self, dtype, copy, errors)\u001b[0m\n\u001b[1;32m   5813\u001b[0m         \u001b[0;32melse\u001b[0m\u001b[0;34m:\u001b[0m\u001b[0;34m\u001b[0m\u001b[0;34m\u001b[0m\u001b[0m\n\u001b[1;32m   5814\u001b[0m             \u001b[0;31m# else, only a single dtype is given\u001b[0m\u001b[0;34m\u001b[0m\u001b[0;34m\u001b[0m\u001b[0;34m\u001b[0m\u001b[0m\n\u001b[0;32m-> 5815\u001b[0;31m             \u001b[0mnew_data\u001b[0m \u001b[0;34m=\u001b[0m \u001b[0mself\u001b[0m\u001b[0;34m.\u001b[0m\u001b[0m_mgr\u001b[0m\u001b[0;34m.\u001b[0m\u001b[0mastype\u001b[0m\u001b[0;34m(\u001b[0m\u001b[0mdtype\u001b[0m\u001b[0;34m=\u001b[0m\u001b[0mdtype\u001b[0m\u001b[0;34m,\u001b[0m \u001b[0mcopy\u001b[0m\u001b[0;34m=\u001b[0m\u001b[0mcopy\u001b[0m\u001b[0;34m,\u001b[0m \u001b[0merrors\u001b[0m\u001b[0;34m=\u001b[0m\u001b[0merrors\u001b[0m\u001b[0;34m)\u001b[0m\u001b[0;34m\u001b[0m\u001b[0;34m\u001b[0m\u001b[0m\n\u001b[0m\u001b[1;32m   5816\u001b[0m             \u001b[0;32mreturn\u001b[0m \u001b[0mself\u001b[0m\u001b[0;34m.\u001b[0m\u001b[0m_constructor\u001b[0m\u001b[0;34m(\u001b[0m\u001b[0mnew_data\u001b[0m\u001b[0;34m)\u001b[0m\u001b[0;34m.\u001b[0m\u001b[0m__finalize__\u001b[0m\u001b[0;34m(\u001b[0m\u001b[0mself\u001b[0m\u001b[0;34m,\u001b[0m \u001b[0mmethod\u001b[0m\u001b[0;34m=\u001b[0m\u001b[0;34m\"astype\"\u001b[0m\u001b[0;34m)\u001b[0m\u001b[0;34m\u001b[0m\u001b[0;34m\u001b[0m\u001b[0m\n\u001b[1;32m   5817\u001b[0m \u001b[0;34m\u001b[0m\u001b[0m\n",
      "\u001b[0;32m~/miniconda3/envs/catpro/lib/python3.7/site-packages/pandas/core/internals/managers.py\u001b[0m in \u001b[0;36mastype\u001b[0;34m(self, dtype, copy, errors)\u001b[0m\n\u001b[1;32m    416\u001b[0m \u001b[0;34m\u001b[0m\u001b[0m\n\u001b[1;32m    417\u001b[0m     \u001b[0;32mdef\u001b[0m \u001b[0mastype\u001b[0m\u001b[0;34m(\u001b[0m\u001b[0mself\u001b[0m\u001b[0;34m:\u001b[0m \u001b[0mT\u001b[0m\u001b[0;34m,\u001b[0m \u001b[0mdtype\u001b[0m\u001b[0;34m,\u001b[0m \u001b[0mcopy\u001b[0m\u001b[0;34m:\u001b[0m \u001b[0mbool\u001b[0m \u001b[0;34m=\u001b[0m \u001b[0;32mFalse\u001b[0m\u001b[0;34m,\u001b[0m \u001b[0merrors\u001b[0m\u001b[0;34m:\u001b[0m \u001b[0mstr\u001b[0m \u001b[0;34m=\u001b[0m \u001b[0;34m\"raise\"\u001b[0m\u001b[0;34m)\u001b[0m \u001b[0;34m->\u001b[0m \u001b[0mT\u001b[0m\u001b[0;34m:\u001b[0m\u001b[0;34m\u001b[0m\u001b[0;34m\u001b[0m\u001b[0m\n\u001b[0;32m--> 418\u001b[0;31m         \u001b[0;32mreturn\u001b[0m \u001b[0mself\u001b[0m\u001b[0;34m.\u001b[0m\u001b[0mapply\u001b[0m\u001b[0;34m(\u001b[0m\u001b[0;34m\"astype\"\u001b[0m\u001b[0;34m,\u001b[0m \u001b[0mdtype\u001b[0m\u001b[0;34m=\u001b[0m\u001b[0mdtype\u001b[0m\u001b[0;34m,\u001b[0m \u001b[0mcopy\u001b[0m\u001b[0;34m=\u001b[0m\u001b[0mcopy\u001b[0m\u001b[0;34m,\u001b[0m \u001b[0merrors\u001b[0m\u001b[0;34m=\u001b[0m\u001b[0merrors\u001b[0m\u001b[0;34m)\u001b[0m\u001b[0;34m\u001b[0m\u001b[0;34m\u001b[0m\u001b[0m\n\u001b[0m\u001b[1;32m    419\u001b[0m \u001b[0;34m\u001b[0m\u001b[0m\n\u001b[1;32m    420\u001b[0m     def convert(\n",
      "\u001b[0;32m~/miniconda3/envs/catpro/lib/python3.7/site-packages/pandas/core/internals/managers.py\u001b[0m in \u001b[0;36mapply\u001b[0;34m(self, f, align_keys, ignore_failures, **kwargs)\u001b[0m\n\u001b[1;32m    325\u001b[0m                     \u001b[0mapplied\u001b[0m \u001b[0;34m=\u001b[0m \u001b[0mb\u001b[0m\u001b[0;34m.\u001b[0m\u001b[0mapply\u001b[0m\u001b[0;34m(\u001b[0m\u001b[0mf\u001b[0m\u001b[0;34m,\u001b[0m \u001b[0;34m**\u001b[0m\u001b[0mkwargs\u001b[0m\u001b[0;34m)\u001b[0m\u001b[0;34m\u001b[0m\u001b[0;34m\u001b[0m\u001b[0m\n\u001b[1;32m    326\u001b[0m                 \u001b[0;32melse\u001b[0m\u001b[0;34m:\u001b[0m\u001b[0;34m\u001b[0m\u001b[0;34m\u001b[0m\u001b[0m\n\u001b[0;32m--> 327\u001b[0;31m                     \u001b[0mapplied\u001b[0m \u001b[0;34m=\u001b[0m \u001b[0mgetattr\u001b[0m\u001b[0;34m(\u001b[0m\u001b[0mb\u001b[0m\u001b[0;34m,\u001b[0m \u001b[0mf\u001b[0m\u001b[0;34m)\u001b[0m\u001b[0;34m(\u001b[0m\u001b[0;34m**\u001b[0m\u001b[0mkwargs\u001b[0m\u001b[0;34m)\u001b[0m\u001b[0;34m\u001b[0m\u001b[0;34m\u001b[0m\u001b[0m\n\u001b[0m\u001b[1;32m    328\u001b[0m             \u001b[0;32mexcept\u001b[0m \u001b[0;34m(\u001b[0m\u001b[0mTypeError\u001b[0m\u001b[0;34m,\u001b[0m \u001b[0mNotImplementedError\u001b[0m\u001b[0;34m)\u001b[0m\u001b[0;34m:\u001b[0m\u001b[0;34m\u001b[0m\u001b[0;34m\u001b[0m\u001b[0m\n\u001b[1;32m    329\u001b[0m                 \u001b[0;32mif\u001b[0m \u001b[0;32mnot\u001b[0m \u001b[0mignore_failures\u001b[0m\u001b[0;34m:\u001b[0m\u001b[0;34m\u001b[0m\u001b[0;34m\u001b[0m\u001b[0m\n",
      "\u001b[0;32m~/miniconda3/envs/catpro/lib/python3.7/site-packages/pandas/core/internals/blocks.py\u001b[0m in \u001b[0;36mastype\u001b[0;34m(self, dtype, copy, errors)\u001b[0m\n\u001b[1;32m    589\u001b[0m         \u001b[0mvalues\u001b[0m \u001b[0;34m=\u001b[0m \u001b[0mself\u001b[0m\u001b[0;34m.\u001b[0m\u001b[0mvalues\u001b[0m\u001b[0;34m\u001b[0m\u001b[0;34m\u001b[0m\u001b[0m\n\u001b[1;32m    590\u001b[0m \u001b[0;34m\u001b[0m\u001b[0m\n\u001b[0;32m--> 591\u001b[0;31m         \u001b[0mnew_values\u001b[0m \u001b[0;34m=\u001b[0m \u001b[0mastype_array_safe\u001b[0m\u001b[0;34m(\u001b[0m\u001b[0mvalues\u001b[0m\u001b[0;34m,\u001b[0m \u001b[0mdtype\u001b[0m\u001b[0;34m,\u001b[0m \u001b[0mcopy\u001b[0m\u001b[0;34m=\u001b[0m\u001b[0mcopy\u001b[0m\u001b[0;34m,\u001b[0m \u001b[0merrors\u001b[0m\u001b[0;34m=\u001b[0m\u001b[0merrors\u001b[0m\u001b[0;34m)\u001b[0m\u001b[0;34m\u001b[0m\u001b[0;34m\u001b[0m\u001b[0m\n\u001b[0m\u001b[1;32m    592\u001b[0m \u001b[0;34m\u001b[0m\u001b[0m\n\u001b[1;32m    593\u001b[0m         \u001b[0mnew_values\u001b[0m \u001b[0;34m=\u001b[0m \u001b[0mmaybe_coerce_values\u001b[0m\u001b[0;34m(\u001b[0m\u001b[0mnew_values\u001b[0m\u001b[0;34m)\u001b[0m\u001b[0;34m\u001b[0m\u001b[0;34m\u001b[0m\u001b[0m\n",
      "\u001b[0;32m~/miniconda3/envs/catpro/lib/python3.7/site-packages/pandas/core/dtypes/cast.py\u001b[0m in \u001b[0;36mastype_array_safe\u001b[0;34m(values, dtype, copy, errors)\u001b[0m\n\u001b[1;32m   1307\u001b[0m \u001b[0;34m\u001b[0m\u001b[0m\n\u001b[1;32m   1308\u001b[0m     \u001b[0;32mtry\u001b[0m\u001b[0;34m:\u001b[0m\u001b[0;34m\u001b[0m\u001b[0;34m\u001b[0m\u001b[0m\n\u001b[0;32m-> 1309\u001b[0;31m         \u001b[0mnew_values\u001b[0m \u001b[0;34m=\u001b[0m \u001b[0mastype_array\u001b[0m\u001b[0;34m(\u001b[0m\u001b[0mvalues\u001b[0m\u001b[0;34m,\u001b[0m \u001b[0mdtype\u001b[0m\u001b[0;34m,\u001b[0m \u001b[0mcopy\u001b[0m\u001b[0;34m=\u001b[0m\u001b[0mcopy\u001b[0m\u001b[0;34m)\u001b[0m\u001b[0;34m\u001b[0m\u001b[0;34m\u001b[0m\u001b[0m\n\u001b[0m\u001b[1;32m   1310\u001b[0m     \u001b[0;32mexcept\u001b[0m \u001b[0;34m(\u001b[0m\u001b[0mValueError\u001b[0m\u001b[0;34m,\u001b[0m \u001b[0mTypeError\u001b[0m\u001b[0;34m)\u001b[0m\u001b[0;34m:\u001b[0m\u001b[0;34m\u001b[0m\u001b[0;34m\u001b[0m\u001b[0m\n\u001b[1;32m   1311\u001b[0m         \u001b[0;31m# e.g. astype_nansafe can fail on object-dtype of strings\u001b[0m\u001b[0;34m\u001b[0m\u001b[0;34m\u001b[0m\u001b[0;34m\u001b[0m\u001b[0m\n",
      "\u001b[0;32m~/miniconda3/envs/catpro/lib/python3.7/site-packages/pandas/core/dtypes/cast.py\u001b[0m in \u001b[0;36mastype_array\u001b[0;34m(values, dtype, copy)\u001b[0m\n\u001b[1;32m   1255\u001b[0m \u001b[0;34m\u001b[0m\u001b[0m\n\u001b[1;32m   1256\u001b[0m     \u001b[0;32melse\u001b[0m\u001b[0;34m:\u001b[0m\u001b[0;34m\u001b[0m\u001b[0;34m\u001b[0m\u001b[0m\n\u001b[0;32m-> 1257\u001b[0;31m         \u001b[0mvalues\u001b[0m \u001b[0;34m=\u001b[0m \u001b[0mastype_nansafe\u001b[0m\u001b[0;34m(\u001b[0m\u001b[0mvalues\u001b[0m\u001b[0;34m,\u001b[0m \u001b[0mdtype\u001b[0m\u001b[0;34m,\u001b[0m \u001b[0mcopy\u001b[0m\u001b[0;34m=\u001b[0m\u001b[0mcopy\u001b[0m\u001b[0;34m)\u001b[0m\u001b[0;34m\u001b[0m\u001b[0;34m\u001b[0m\u001b[0m\n\u001b[0m\u001b[1;32m   1258\u001b[0m \u001b[0;34m\u001b[0m\u001b[0m\n\u001b[1;32m   1259\u001b[0m     \u001b[0;31m# in pandas we don't store numpy str dtypes, so convert to object\u001b[0m\u001b[0;34m\u001b[0m\u001b[0;34m\u001b[0m\u001b[0;34m\u001b[0m\u001b[0m\n",
      "\u001b[0;32m~/miniconda3/envs/catpro/lib/python3.7/site-packages/pandas/core/dtypes/cast.py\u001b[0m in \u001b[0;36mastype_nansafe\u001b[0;34m(arr, dtype, copy, skipna)\u001b[0m\n\u001b[1;32m   1093\u001b[0m     \u001b[0;32mif\u001b[0m \u001b[0marr\u001b[0m\u001b[0;34m.\u001b[0m\u001b[0mndim\u001b[0m \u001b[0;34m>\u001b[0m \u001b[0;36m1\u001b[0m\u001b[0;34m:\u001b[0m\u001b[0;34m\u001b[0m\u001b[0;34m\u001b[0m\u001b[0m\n\u001b[1;32m   1094\u001b[0m         \u001b[0mflat\u001b[0m \u001b[0;34m=\u001b[0m \u001b[0marr\u001b[0m\u001b[0;34m.\u001b[0m\u001b[0mravel\u001b[0m\u001b[0;34m(\u001b[0m\u001b[0;34m)\u001b[0m\u001b[0;34m\u001b[0m\u001b[0;34m\u001b[0m\u001b[0m\n\u001b[0;32m-> 1095\u001b[0;31m         \u001b[0mresult\u001b[0m \u001b[0;34m=\u001b[0m \u001b[0mastype_nansafe\u001b[0m\u001b[0;34m(\u001b[0m\u001b[0mflat\u001b[0m\u001b[0;34m,\u001b[0m \u001b[0mdtype\u001b[0m\u001b[0;34m,\u001b[0m \u001b[0mcopy\u001b[0m\u001b[0;34m=\u001b[0m\u001b[0mcopy\u001b[0m\u001b[0;34m,\u001b[0m \u001b[0mskipna\u001b[0m\u001b[0;34m=\u001b[0m\u001b[0mskipna\u001b[0m\u001b[0;34m)\u001b[0m\u001b[0;34m\u001b[0m\u001b[0;34m\u001b[0m\u001b[0m\n\u001b[0m\u001b[1;32m   1096\u001b[0m         \u001b[0;31m# error: Item \"ExtensionArray\" of \"Union[ExtensionArray, ndarray]\" has no\u001b[0m\u001b[0;34m\u001b[0m\u001b[0;34m\u001b[0m\u001b[0;34m\u001b[0m\u001b[0m\n\u001b[1;32m   1097\u001b[0m         \u001b[0;31m# attribute \"reshape\"\u001b[0m\u001b[0;34m\u001b[0m\u001b[0;34m\u001b[0m\u001b[0;34m\u001b[0m\u001b[0m\n",
      "\u001b[0;32m~/miniconda3/envs/catpro/lib/python3.7/site-packages/pandas/core/dtypes/cast.py\u001b[0m in \u001b[0;36mastype_nansafe\u001b[0;34m(arr, dtype, copy, skipna)\u001b[0m\n\u001b[1;32m   1199\u001b[0m     \u001b[0;32mif\u001b[0m \u001b[0mcopy\u001b[0m \u001b[0;32mor\u001b[0m \u001b[0mis_object_dtype\u001b[0m\u001b[0;34m(\u001b[0m\u001b[0marr\u001b[0m\u001b[0;34m.\u001b[0m\u001b[0mdtype\u001b[0m\u001b[0;34m)\u001b[0m \u001b[0;32mor\u001b[0m \u001b[0mis_object_dtype\u001b[0m\u001b[0;34m(\u001b[0m\u001b[0mdtype\u001b[0m\u001b[0;34m)\u001b[0m\u001b[0;34m:\u001b[0m\u001b[0;34m\u001b[0m\u001b[0;34m\u001b[0m\u001b[0m\n\u001b[1;32m   1200\u001b[0m         \u001b[0;31m# Explicit copy, or required since NumPy can't view from / to object.\u001b[0m\u001b[0;34m\u001b[0m\u001b[0;34m\u001b[0m\u001b[0;34m\u001b[0m\u001b[0m\n\u001b[0;32m-> 1201\u001b[0;31m         \u001b[0;32mreturn\u001b[0m \u001b[0marr\u001b[0m\u001b[0;34m.\u001b[0m\u001b[0mastype\u001b[0m\u001b[0;34m(\u001b[0m\u001b[0mdtype\u001b[0m\u001b[0;34m,\u001b[0m \u001b[0mcopy\u001b[0m\u001b[0;34m=\u001b[0m\u001b[0;32mTrue\u001b[0m\u001b[0;34m)\u001b[0m\u001b[0;34m\u001b[0m\u001b[0;34m\u001b[0m\u001b[0m\n\u001b[0m\u001b[1;32m   1202\u001b[0m \u001b[0;34m\u001b[0m\u001b[0m\n\u001b[1;32m   1203\u001b[0m     \u001b[0;32mreturn\u001b[0m \u001b[0marr\u001b[0m\u001b[0;34m.\u001b[0m\u001b[0mastype\u001b[0m\u001b[0;34m(\u001b[0m\u001b[0mdtype\u001b[0m\u001b[0;34m,\u001b[0m \u001b[0mcopy\u001b[0m\u001b[0;34m=\u001b[0m\u001b[0mcopy\u001b[0m\u001b[0;34m)\u001b[0m\u001b[0;34m\u001b[0m\u001b[0;34m\u001b[0m\u001b[0m\n",
      "\u001b[0;31mValueError\u001b[0m: setting an array element with a sequence."
     ]
    }
   ],
   "source": [
    "df_similarity_token_category(embeddings_tokens_doc, constructs_d, df_train, docs_clean, summary_stats = None)\n"
   ]
  },
  {
   "cell_type": "code",
   "execution_count": 109,
   "id": "9c46eb6e-13da-4787-a35a-06745dc84d94",
   "metadata": {},
   "outputs": [
    {
     "data": {
      "text/plain": [
       "(46, 100)"
      ]
     },
     "execution_count": 109,
     "metadata": {},
     "output_type": "execute_result"
    }
   ],
   "source": [
    "embeddings_tokens_doc[2].shape"
   ]
  },
  {
   "cell_type": "code",
   "execution_count": 96,
   "id": "43e7f049-90ac-4622-a74a-87aadbc34fc1",
   "metadata": {
    "tags": []
   },
   "outputs": [
    {
     "name": "stdout",
     "output_type": "stream",
     "text": [
      "glove word\n"
     ]
    },
    {
     "name": "stderr",
     "output_type": "stream",
     "text": [
      "/Users/danielmlow/Dropbox (MIT)/datum/catpro/catpro/text/embeddings.py:89: VisibleDeprecationWarning: Creating an ndarray from ragged nested sequences (which is a list-or-tuple of lists-or-tuples-or ndarrays with different lengths or shapes) is deprecated. If you meant to do this, you must specify 'dtype=object' when creating the ndarray.\n",
      "  embeddings = np.asarray(embeddings)\n"
     ]
    },
    {
     "name": "stdout",
     "output_type": "stream",
     "text": [
      "size of embeddings: (7280,)\n",
      "size of embeddings: (16, 1, 100)\n"
     ]
    },
    {
     "ename": "ValueError",
     "evalue": "setting an array element with a sequence.",
     "output_type": "error",
     "traceback": [
      "\u001b[0;31m---------------------------------------------------------------------------\u001b[0m",
      "\u001b[0;31mTypeError\u001b[0m                                 Traceback (most recent call last)",
      "\u001b[0;31mTypeError\u001b[0m: only size-1 arrays can be converted to Python scalars",
      "\nThe above exception was the direct cause of the following exception:\n",
      "\u001b[0;31mValueError\u001b[0m                                Traceback (most recent call last)",
      "\u001b[0;32m<timed exec>\u001b[0m in \u001b[0;36m<module>\u001b[0;34m\u001b[0m\n",
      "\u001b[0;32m/var/folders/6f/x95fldf13xn_k25tybdzgtqw0000gn/T/ipykernel_30618/3130359132.py\u001b[0m in \u001b[0;36mdf_similarity_token_category\u001b[0;34m(embeddings_tokens_doc, constructs_d, df_train, docs_clean, summary_stats)\u001b[0m\n\u001b[1;32m     20\u001b[0m             \u001b[0mdf_scores_category_all\u001b[0m\u001b[0;34m.\u001b[0m\u001b[0mappend\u001b[0m\u001b[0;34m(\u001b[0m\u001b[0mdf_scores_category\u001b[0m\u001b[0;34m)\u001b[0m\u001b[0;34m\u001b[0m\u001b[0;34m\u001b[0m\u001b[0m\n\u001b[1;32m     21\u001b[0m         \u001b[0mdf_scores_category_all\u001b[0m \u001b[0;34m=\u001b[0m \u001b[0mpd\u001b[0m\u001b[0;34m.\u001b[0m\u001b[0mconcat\u001b[0m\u001b[0;34m(\u001b[0m\u001b[0mdf_scores_category_all\u001b[0m\u001b[0;34m,\u001b[0m \u001b[0maxis\u001b[0m\u001b[0;34m=\u001b[0m\u001b[0;36m1\u001b[0m\u001b[0;34m)\u001b[0m\u001b[0;34m\u001b[0m\u001b[0;34m\u001b[0m\u001b[0m\n\u001b[0;32m---> 22\u001b[0;31m         \u001b[0mdf_scores_category_all\u001b[0m \u001b[0;34m=\u001b[0m \u001b[0mdf_scores_category_all\u001b[0m\u001b[0;34m[\u001b[0m\u001b[0mconstructs\u001b[0m\u001b[0;34m]\u001b[0m\u001b[0;34m.\u001b[0m\u001b[0mastype\u001b[0m\u001b[0;34m(\u001b[0m\u001b[0mfloat\u001b[0m\u001b[0;34m)\u001b[0m\u001b[0;34m\u001b[0m\u001b[0;34m\u001b[0m\u001b[0m\n\u001b[0m\u001b[1;32m     23\u001b[0m         \u001b[0mfeature_vectors_mean\u001b[0m\u001b[0;34m.\u001b[0m\u001b[0mappend\u001b[0m\u001b[0;34m(\u001b[0m\u001b[0mdf_scores_category_all\u001b[0m\u001b[0;34m.\u001b[0m\u001b[0mmean\u001b[0m\u001b[0;34m(\u001b[0m\u001b[0;34m)\u001b[0m\u001b[0;34m)\u001b[0m\u001b[0;34m\u001b[0m\u001b[0;34m\u001b[0m\u001b[0m\n\u001b[1;32m     24\u001b[0m         \u001b[0mfeature_vectors_median\u001b[0m\u001b[0;34m.\u001b[0m\u001b[0mappend\u001b[0m\u001b[0;34m(\u001b[0m\u001b[0mdf_scores_category_all\u001b[0m\u001b[0;34m.\u001b[0m\u001b[0mmedian\u001b[0m\u001b[0;34m(\u001b[0m\u001b[0;34m)\u001b[0m\u001b[0;34m)\u001b[0m\u001b[0;34m\u001b[0m\u001b[0;34m\u001b[0m\u001b[0m\n",
      "\u001b[0;32m~/miniconda3/envs/catpro/lib/python3.7/site-packages/pandas/core/generic.py\u001b[0m in \u001b[0;36mastype\u001b[0;34m(self, dtype, copy, errors)\u001b[0m\n\u001b[1;32m   5813\u001b[0m         \u001b[0;32melse\u001b[0m\u001b[0;34m:\u001b[0m\u001b[0;34m\u001b[0m\u001b[0;34m\u001b[0m\u001b[0m\n\u001b[1;32m   5814\u001b[0m             \u001b[0;31m# else, only a single dtype is given\u001b[0m\u001b[0;34m\u001b[0m\u001b[0;34m\u001b[0m\u001b[0;34m\u001b[0m\u001b[0m\n\u001b[0;32m-> 5815\u001b[0;31m             \u001b[0mnew_data\u001b[0m \u001b[0;34m=\u001b[0m \u001b[0mself\u001b[0m\u001b[0;34m.\u001b[0m\u001b[0m_mgr\u001b[0m\u001b[0;34m.\u001b[0m\u001b[0mastype\u001b[0m\u001b[0;34m(\u001b[0m\u001b[0mdtype\u001b[0m\u001b[0;34m=\u001b[0m\u001b[0mdtype\u001b[0m\u001b[0;34m,\u001b[0m \u001b[0mcopy\u001b[0m\u001b[0;34m=\u001b[0m\u001b[0mcopy\u001b[0m\u001b[0;34m,\u001b[0m \u001b[0merrors\u001b[0m\u001b[0;34m=\u001b[0m\u001b[0merrors\u001b[0m\u001b[0;34m)\u001b[0m\u001b[0;34m\u001b[0m\u001b[0;34m\u001b[0m\u001b[0m\n\u001b[0m\u001b[1;32m   5816\u001b[0m             \u001b[0;32mreturn\u001b[0m \u001b[0mself\u001b[0m\u001b[0;34m.\u001b[0m\u001b[0m_constructor\u001b[0m\u001b[0;34m(\u001b[0m\u001b[0mnew_data\u001b[0m\u001b[0;34m)\u001b[0m\u001b[0;34m.\u001b[0m\u001b[0m__finalize__\u001b[0m\u001b[0;34m(\u001b[0m\u001b[0mself\u001b[0m\u001b[0;34m,\u001b[0m \u001b[0mmethod\u001b[0m\u001b[0;34m=\u001b[0m\u001b[0;34m\"astype\"\u001b[0m\u001b[0;34m)\u001b[0m\u001b[0;34m\u001b[0m\u001b[0;34m\u001b[0m\u001b[0m\n\u001b[1;32m   5817\u001b[0m \u001b[0;34m\u001b[0m\u001b[0m\n",
      "\u001b[0;32m~/miniconda3/envs/catpro/lib/python3.7/site-packages/pandas/core/internals/managers.py\u001b[0m in \u001b[0;36mastype\u001b[0;34m(self, dtype, copy, errors)\u001b[0m\n\u001b[1;32m    416\u001b[0m \u001b[0;34m\u001b[0m\u001b[0m\n\u001b[1;32m    417\u001b[0m     \u001b[0;32mdef\u001b[0m \u001b[0mastype\u001b[0m\u001b[0;34m(\u001b[0m\u001b[0mself\u001b[0m\u001b[0;34m:\u001b[0m \u001b[0mT\u001b[0m\u001b[0;34m,\u001b[0m \u001b[0mdtype\u001b[0m\u001b[0;34m,\u001b[0m \u001b[0mcopy\u001b[0m\u001b[0;34m:\u001b[0m \u001b[0mbool\u001b[0m \u001b[0;34m=\u001b[0m \u001b[0;32mFalse\u001b[0m\u001b[0;34m,\u001b[0m \u001b[0merrors\u001b[0m\u001b[0;34m:\u001b[0m \u001b[0mstr\u001b[0m \u001b[0;34m=\u001b[0m \u001b[0;34m\"raise\"\u001b[0m\u001b[0;34m)\u001b[0m \u001b[0;34m->\u001b[0m \u001b[0mT\u001b[0m\u001b[0;34m:\u001b[0m\u001b[0;34m\u001b[0m\u001b[0;34m\u001b[0m\u001b[0m\n\u001b[0;32m--> 418\u001b[0;31m         \u001b[0;32mreturn\u001b[0m \u001b[0mself\u001b[0m\u001b[0;34m.\u001b[0m\u001b[0mapply\u001b[0m\u001b[0;34m(\u001b[0m\u001b[0;34m\"astype\"\u001b[0m\u001b[0;34m,\u001b[0m \u001b[0mdtype\u001b[0m\u001b[0;34m=\u001b[0m\u001b[0mdtype\u001b[0m\u001b[0;34m,\u001b[0m \u001b[0mcopy\u001b[0m\u001b[0;34m=\u001b[0m\u001b[0mcopy\u001b[0m\u001b[0;34m,\u001b[0m \u001b[0merrors\u001b[0m\u001b[0;34m=\u001b[0m\u001b[0merrors\u001b[0m\u001b[0;34m)\u001b[0m\u001b[0;34m\u001b[0m\u001b[0;34m\u001b[0m\u001b[0m\n\u001b[0m\u001b[1;32m    419\u001b[0m \u001b[0;34m\u001b[0m\u001b[0m\n\u001b[1;32m    420\u001b[0m     def convert(\n",
      "\u001b[0;32m~/miniconda3/envs/catpro/lib/python3.7/site-packages/pandas/core/internals/managers.py\u001b[0m in \u001b[0;36mapply\u001b[0;34m(self, f, align_keys, ignore_failures, **kwargs)\u001b[0m\n\u001b[1;32m    325\u001b[0m                     \u001b[0mapplied\u001b[0m \u001b[0;34m=\u001b[0m \u001b[0mb\u001b[0m\u001b[0;34m.\u001b[0m\u001b[0mapply\u001b[0m\u001b[0;34m(\u001b[0m\u001b[0mf\u001b[0m\u001b[0;34m,\u001b[0m \u001b[0;34m**\u001b[0m\u001b[0mkwargs\u001b[0m\u001b[0;34m)\u001b[0m\u001b[0;34m\u001b[0m\u001b[0;34m\u001b[0m\u001b[0m\n\u001b[1;32m    326\u001b[0m                 \u001b[0;32melse\u001b[0m\u001b[0;34m:\u001b[0m\u001b[0;34m\u001b[0m\u001b[0;34m\u001b[0m\u001b[0m\n\u001b[0;32m--> 327\u001b[0;31m                     \u001b[0mapplied\u001b[0m \u001b[0;34m=\u001b[0m \u001b[0mgetattr\u001b[0m\u001b[0;34m(\u001b[0m\u001b[0mb\u001b[0m\u001b[0;34m,\u001b[0m \u001b[0mf\u001b[0m\u001b[0;34m)\u001b[0m\u001b[0;34m(\u001b[0m\u001b[0;34m**\u001b[0m\u001b[0mkwargs\u001b[0m\u001b[0;34m)\u001b[0m\u001b[0;34m\u001b[0m\u001b[0;34m\u001b[0m\u001b[0m\n\u001b[0m\u001b[1;32m    328\u001b[0m             \u001b[0;32mexcept\u001b[0m \u001b[0;34m(\u001b[0m\u001b[0mTypeError\u001b[0m\u001b[0;34m,\u001b[0m \u001b[0mNotImplementedError\u001b[0m\u001b[0;34m)\u001b[0m\u001b[0;34m:\u001b[0m\u001b[0;34m\u001b[0m\u001b[0;34m\u001b[0m\u001b[0m\n\u001b[1;32m    329\u001b[0m                 \u001b[0;32mif\u001b[0m \u001b[0;32mnot\u001b[0m \u001b[0mignore_failures\u001b[0m\u001b[0;34m:\u001b[0m\u001b[0;34m\u001b[0m\u001b[0;34m\u001b[0m\u001b[0m\n",
      "\u001b[0;32m~/miniconda3/envs/catpro/lib/python3.7/site-packages/pandas/core/internals/blocks.py\u001b[0m in \u001b[0;36mastype\u001b[0;34m(self, dtype, copy, errors)\u001b[0m\n\u001b[1;32m    589\u001b[0m         \u001b[0mvalues\u001b[0m \u001b[0;34m=\u001b[0m \u001b[0mself\u001b[0m\u001b[0;34m.\u001b[0m\u001b[0mvalues\u001b[0m\u001b[0;34m\u001b[0m\u001b[0;34m\u001b[0m\u001b[0m\n\u001b[1;32m    590\u001b[0m \u001b[0;34m\u001b[0m\u001b[0m\n\u001b[0;32m--> 591\u001b[0;31m         \u001b[0mnew_values\u001b[0m \u001b[0;34m=\u001b[0m \u001b[0mastype_array_safe\u001b[0m\u001b[0;34m(\u001b[0m\u001b[0mvalues\u001b[0m\u001b[0;34m,\u001b[0m \u001b[0mdtype\u001b[0m\u001b[0;34m,\u001b[0m \u001b[0mcopy\u001b[0m\u001b[0;34m=\u001b[0m\u001b[0mcopy\u001b[0m\u001b[0;34m,\u001b[0m \u001b[0merrors\u001b[0m\u001b[0;34m=\u001b[0m\u001b[0merrors\u001b[0m\u001b[0;34m)\u001b[0m\u001b[0;34m\u001b[0m\u001b[0;34m\u001b[0m\u001b[0m\n\u001b[0m\u001b[1;32m    592\u001b[0m \u001b[0;34m\u001b[0m\u001b[0m\n\u001b[1;32m    593\u001b[0m         \u001b[0mnew_values\u001b[0m \u001b[0;34m=\u001b[0m \u001b[0mmaybe_coerce_values\u001b[0m\u001b[0;34m(\u001b[0m\u001b[0mnew_values\u001b[0m\u001b[0;34m)\u001b[0m\u001b[0;34m\u001b[0m\u001b[0;34m\u001b[0m\u001b[0m\n",
      "\u001b[0;32m~/miniconda3/envs/catpro/lib/python3.7/site-packages/pandas/core/dtypes/cast.py\u001b[0m in \u001b[0;36mastype_array_safe\u001b[0;34m(values, dtype, copy, errors)\u001b[0m\n\u001b[1;32m   1307\u001b[0m \u001b[0;34m\u001b[0m\u001b[0m\n\u001b[1;32m   1308\u001b[0m     \u001b[0;32mtry\u001b[0m\u001b[0;34m:\u001b[0m\u001b[0;34m\u001b[0m\u001b[0;34m\u001b[0m\u001b[0m\n\u001b[0;32m-> 1309\u001b[0;31m         \u001b[0mnew_values\u001b[0m \u001b[0;34m=\u001b[0m \u001b[0mastype_array\u001b[0m\u001b[0;34m(\u001b[0m\u001b[0mvalues\u001b[0m\u001b[0;34m,\u001b[0m \u001b[0mdtype\u001b[0m\u001b[0;34m,\u001b[0m \u001b[0mcopy\u001b[0m\u001b[0;34m=\u001b[0m\u001b[0mcopy\u001b[0m\u001b[0;34m)\u001b[0m\u001b[0;34m\u001b[0m\u001b[0;34m\u001b[0m\u001b[0m\n\u001b[0m\u001b[1;32m   1310\u001b[0m     \u001b[0;32mexcept\u001b[0m \u001b[0;34m(\u001b[0m\u001b[0mValueError\u001b[0m\u001b[0;34m,\u001b[0m \u001b[0mTypeError\u001b[0m\u001b[0;34m)\u001b[0m\u001b[0;34m:\u001b[0m\u001b[0;34m\u001b[0m\u001b[0;34m\u001b[0m\u001b[0m\n\u001b[1;32m   1311\u001b[0m         \u001b[0;31m# e.g. astype_nansafe can fail on object-dtype of strings\u001b[0m\u001b[0;34m\u001b[0m\u001b[0;34m\u001b[0m\u001b[0;34m\u001b[0m\u001b[0m\n",
      "\u001b[0;32m~/miniconda3/envs/catpro/lib/python3.7/site-packages/pandas/core/dtypes/cast.py\u001b[0m in \u001b[0;36mastype_array\u001b[0;34m(values, dtype, copy)\u001b[0m\n\u001b[1;32m   1255\u001b[0m \u001b[0;34m\u001b[0m\u001b[0m\n\u001b[1;32m   1256\u001b[0m     \u001b[0;32melse\u001b[0m\u001b[0;34m:\u001b[0m\u001b[0;34m\u001b[0m\u001b[0;34m\u001b[0m\u001b[0m\n\u001b[0;32m-> 1257\u001b[0;31m         \u001b[0mvalues\u001b[0m \u001b[0;34m=\u001b[0m \u001b[0mastype_nansafe\u001b[0m\u001b[0;34m(\u001b[0m\u001b[0mvalues\u001b[0m\u001b[0;34m,\u001b[0m \u001b[0mdtype\u001b[0m\u001b[0;34m,\u001b[0m \u001b[0mcopy\u001b[0m\u001b[0;34m=\u001b[0m\u001b[0mcopy\u001b[0m\u001b[0;34m)\u001b[0m\u001b[0;34m\u001b[0m\u001b[0;34m\u001b[0m\u001b[0m\n\u001b[0m\u001b[1;32m   1258\u001b[0m \u001b[0;34m\u001b[0m\u001b[0m\n\u001b[1;32m   1259\u001b[0m     \u001b[0;31m# in pandas we don't store numpy str dtypes, so convert to object\u001b[0m\u001b[0;34m\u001b[0m\u001b[0;34m\u001b[0m\u001b[0;34m\u001b[0m\u001b[0m\n",
      "\u001b[0;32m~/miniconda3/envs/catpro/lib/python3.7/site-packages/pandas/core/dtypes/cast.py\u001b[0m in \u001b[0;36mastype_nansafe\u001b[0;34m(arr, dtype, copy, skipna)\u001b[0m\n\u001b[1;32m   1093\u001b[0m     \u001b[0;32mif\u001b[0m \u001b[0marr\u001b[0m\u001b[0;34m.\u001b[0m\u001b[0mndim\u001b[0m \u001b[0;34m>\u001b[0m \u001b[0;36m1\u001b[0m\u001b[0;34m:\u001b[0m\u001b[0;34m\u001b[0m\u001b[0;34m\u001b[0m\u001b[0m\n\u001b[1;32m   1094\u001b[0m         \u001b[0mflat\u001b[0m \u001b[0;34m=\u001b[0m \u001b[0marr\u001b[0m\u001b[0;34m.\u001b[0m\u001b[0mravel\u001b[0m\u001b[0;34m(\u001b[0m\u001b[0;34m)\u001b[0m\u001b[0;34m\u001b[0m\u001b[0;34m\u001b[0m\u001b[0m\n\u001b[0;32m-> 1095\u001b[0;31m         \u001b[0mresult\u001b[0m \u001b[0;34m=\u001b[0m \u001b[0mastype_nansafe\u001b[0m\u001b[0;34m(\u001b[0m\u001b[0mflat\u001b[0m\u001b[0;34m,\u001b[0m \u001b[0mdtype\u001b[0m\u001b[0;34m,\u001b[0m \u001b[0mcopy\u001b[0m\u001b[0;34m=\u001b[0m\u001b[0mcopy\u001b[0m\u001b[0;34m,\u001b[0m \u001b[0mskipna\u001b[0m\u001b[0;34m=\u001b[0m\u001b[0mskipna\u001b[0m\u001b[0;34m)\u001b[0m\u001b[0;34m\u001b[0m\u001b[0;34m\u001b[0m\u001b[0m\n\u001b[0m\u001b[1;32m   1096\u001b[0m         \u001b[0;31m# error: Item \"ExtensionArray\" of \"Union[ExtensionArray, ndarray]\" has no\u001b[0m\u001b[0;34m\u001b[0m\u001b[0;34m\u001b[0m\u001b[0;34m\u001b[0m\u001b[0m\n\u001b[1;32m   1097\u001b[0m         \u001b[0;31m# attribute \"reshape\"\u001b[0m\u001b[0;34m\u001b[0m\u001b[0;34m\u001b[0m\u001b[0;34m\u001b[0m\u001b[0m\n",
      "\u001b[0;32m~/miniconda3/envs/catpro/lib/python3.7/site-packages/pandas/core/dtypes/cast.py\u001b[0m in \u001b[0;36mastype_nansafe\u001b[0;34m(arr, dtype, copy, skipna)\u001b[0m\n\u001b[1;32m   1199\u001b[0m     \u001b[0;32mif\u001b[0m \u001b[0mcopy\u001b[0m \u001b[0;32mor\u001b[0m \u001b[0mis_object_dtype\u001b[0m\u001b[0;34m(\u001b[0m\u001b[0marr\u001b[0m\u001b[0;34m.\u001b[0m\u001b[0mdtype\u001b[0m\u001b[0;34m)\u001b[0m \u001b[0;32mor\u001b[0m \u001b[0mis_object_dtype\u001b[0m\u001b[0;34m(\u001b[0m\u001b[0mdtype\u001b[0m\u001b[0;34m)\u001b[0m\u001b[0;34m:\u001b[0m\u001b[0;34m\u001b[0m\u001b[0;34m\u001b[0m\u001b[0m\n\u001b[1;32m   1200\u001b[0m         \u001b[0;31m# Explicit copy, or required since NumPy can't view from / to object.\u001b[0m\u001b[0;34m\u001b[0m\u001b[0;34m\u001b[0m\u001b[0;34m\u001b[0m\u001b[0m\n\u001b[0;32m-> 1201\u001b[0;31m         \u001b[0;32mreturn\u001b[0m \u001b[0marr\u001b[0m\u001b[0;34m.\u001b[0m\u001b[0mastype\u001b[0m\u001b[0;34m(\u001b[0m\u001b[0mdtype\u001b[0m\u001b[0;34m,\u001b[0m \u001b[0mcopy\u001b[0m\u001b[0;34m=\u001b[0m\u001b[0;32mTrue\u001b[0m\u001b[0;34m)\u001b[0m\u001b[0;34m\u001b[0m\u001b[0;34m\u001b[0m\u001b[0m\n\u001b[0m\u001b[1;32m   1202\u001b[0m \u001b[0;34m\u001b[0m\u001b[0m\n\u001b[1;32m   1203\u001b[0m     \u001b[0;32mreturn\u001b[0m \u001b[0marr\u001b[0m\u001b[0;34m.\u001b[0m\u001b[0mastype\u001b[0m\u001b[0;34m(\u001b[0m\u001b[0mdtype\u001b[0m\u001b[0;34m,\u001b[0m \u001b[0mcopy\u001b[0m\u001b[0;34m=\u001b[0m\u001b[0mcopy\u001b[0m\u001b[0;34m)\u001b[0m\u001b[0;34m\u001b[0m\u001b[0;34m\u001b[0m\u001b[0m\n",
      "\u001b[0;31mValueError\u001b[0m: setting an array element with a sequence."
     ]
    }
   ],
   "source": [
    "%%time\n",
    "\n",
    "run_this = True\n",
    "\n",
    "if run_this:\n",
    "    for model_name, embedding_type in embedding_name_type.items():\n",
    "        if model_name in ['all-MiniLM-L6-v2','mnaylor/psychbert-cased']:\n",
    "            # skip             \n",
    "            continue\n",
    "        print(model_name, embedding_type)\n",
    "        # encode tokens of each doc\n",
    "        embeddings_tokens_doc = vectorize(docs_clean, embedding_type = embedding_type, model_name = model_name) # 10 s for list of tokens for 5200 docs\n",
    "        filename = model_name.split('/')[-1]\n",
    "        np.save(output_dir+f'rmhd_5_{filename}_embeddings.npy', embeddings_tokens_doc)\n",
    "\n",
    "        # encode constructs     \n",
    "        constructs_d = {}\n",
    "        embeddings_constructs = vectorize(constructs, embedding_type = embedding_type, model_name = model_name)\n",
    "        for category, embedding in zip(constructs, embeddings_constructs):\n",
    "            constructs_d[category] = embedding\n",
    "\n",
    "        # compute similarity (extract features)    \n",
    "        # embeddings_tokens_doc = np.load(output_dir+f'rmhd_5_{model_name.split('/')[-1]}_embeddings.npy')\n",
    "        feature_vectors = df_similarity_token_category(embeddings_tokens_doc, constructs_d, df_train, docs_clean, summary_stats = None)\n",
    "        feature_vectors.to_csv(output_dir+f'feature_vectors_{filename}_{len(constructs)}constructs_{len(subreddts)}subreddits.csv')\n"
   ]
  },
  {
   "cell_type": "markdown",
   "id": "181c6ce6-9764-4637-8dc2-94cc738de330",
   "metadata": {},
   "source": [
    "\n",
    "# Plot"
   ]
  },
  {
   "cell_type": "code",
   "execution_count": 80,
   "id": "a4f307d8-12de-49fc-9687-618ef1d62a1f",
   "metadata": {},
   "outputs": [
    {
     "ename": "NameError",
     "evalue": "name 'feature_vectors' is not defined",
     "output_type": "error",
     "traceback": [
      "\u001b[0;31m---------------------------------------------------------------------------\u001b[0m",
      "\u001b[0;31mNameError\u001b[0m                                 Traceback (most recent call last)",
      "\u001b[0;32m/var/folders/6f/x95fldf13xn_k25tybdzgtqw0000gn/T/ipykernel_30618/3514666815.py\u001b[0m in \u001b[0;36m<module>\u001b[0;34m\u001b[0m\n\u001b[0;32m----> 1\u001b[0;31m \u001b[0mfeature_vectors\u001b[0m\u001b[0;34m[\u001b[0m\u001b[0;34m[\u001b[0m\u001b[0;34m'docs'\u001b[0m\u001b[0;34m,\u001b[0m \u001b[0;34m'docs_clean'\u001b[0m\u001b[0;34m]\u001b[0m\u001b[0;34m]\u001b[0m\u001b[0;34m.\u001b[0m\u001b[0mvalues\u001b[0m\u001b[0;34m\u001b[0m\u001b[0;34m\u001b[0m\u001b[0m\n\u001b[0m",
      "\u001b[0;31mNameError\u001b[0m: name 'feature_vectors' is not defined"
     ]
    }
   ],
   "source": [
    "feature_vectors[['docs', 'docs_clean']].values"
   ]
  },
  {
   "cell_type": "code",
   "execution_count": null,
   "id": "96d03b9b-da93-4b40-96d8-3beac85225c1",
   "metadata": {},
   "outputs": [],
   "source": [
    "import seaborn as sns\n",
    "import matplotlib.pyplot as plt"
   ]
  },
  {
   "cell_type": "code",
   "execution_count": null,
   "id": "33e41ffd-8605-4068-b228-f218536a3def",
   "metadata": {},
   "outputs": [],
   "source": []
  },
  {
   "cell_type": "code",
   "execution_count": null,
   "id": "8e733fd0-c2ad-454b-a562-5f4fe083919d",
   "metadata": {},
   "outputs": [],
   "source": [
    "# feature_vectors.groupby('subreddit')[cols].boxplot()"
   ]
  },
  {
   "cell_type": "code",
   "execution_count": null,
   "id": "57ceebb7-bbf4-42f7-86fa-3308eb5e8466",
   "metadata": {},
   "outputs": [],
   "source": [
    "output_dir = './data/concept_tracker_experiments/direct_similarity/'"
   ]
  },
  {
   "cell_type": "code",
   "execution_count": null,
   "id": "39484cba-b9bb-4217-86f5-5ce4f66be90c",
   "metadata": {},
   "outputs": [],
   "source": [
    "feature_vectors = pd.read_csv(output_dir+f'feature_vectors_{filename}.csv', index_col = 0)"
   ]
  },
  {
   "cell_type": "code",
   "execution_count": null,
   "id": "218e3151-8016-4775-b6cb-67a38f346fb1",
   "metadata": {},
   "outputs": [],
   "source": [
    "for category in constructs:\n",
    "    print('\\n\\n',category, '========= >0.6')\n",
    "    fv_i = feature_vectors[feature_vectors[category+'_mean']>0.5]\n",
    "    if fv_i.shape[0]>1:\n",
    "        \n",
    "        display(\n",
    "            fv_i[['docs', category+'_mean','subreddit']].round(3).sample(n=3).values.tolist()\n",
    "        )\n",
    "\n",
    "    print('\\n\\n',category, '========= 0.4>=x<=0.6')\n",
    "    fv_i = feature_vectors[(feature_vectors[category+'_mean']>0.4) & (feature_vectors[category+'_mean']<=0.6) ]\n",
    "    if fv_i.shape[0]>1:\n",
    "        \n",
    "        display(\n",
    "            fv_i[['docs', category+'_mean', 'subreddit']].round(3).sample(n=3).values.tolist()\n",
    "        )\n",
    "    \n",
    "    \n",
    "#     print('\\n',category, '========= 0.3>=x<=0.5')\n",
    "#     display(\n",
    "#         feature_vectors[feature_vectors[category+'_mean']>0.5]['docs'].sample(n=3).tolist()\n",
    "#     )"
   ]
  },
  {
   "cell_type": "code",
   "execution_count": null,
   "id": "785c4e6d-f51d-474c-9a7a-0dd426ddcb44",
   "metadata": {},
   "outputs": [],
   "source": [
    "from matplotlib import rcParams\n",
    "\n",
    "sns.set(font_scale=1.4)\n",
    "\n",
    "# figure size in inches\n",
    "# rcParams['figure.figsize'] = 8,6\n",
    "\n",
    "for model_name, embedding_type in embedding_name_type.items():\n",
    "    \n",
    "    if model_name in ['mnaylor/psychbert-cased']:\n",
    "        continue\n",
    "    \n",
    "    filename = model_name.split('/')[-1]\n",
    "    feature_vectors = pd.read_csv(output_dir+f'feature_vectors_{filename}.csv', index_col = 0)\n",
    "    \n",
    "    \n",
    "    \n",
    "    print(model_name)\n",
    "    print('==============================')\n",
    "    for stat in ['mean', 'median', 'max']:\n",
    "        print(stat, '---')\n",
    "        cols = [n for n in feature_vectors.columns if stat in n]\n",
    "        display(feature_vectors.groupby('subreddit').mean()[cols])\n",
    "        \n",
    "        # sns.set(rc = {'figure.figsize':(4,4)})\n",
    "        # plt.rcParams[\"figure.figsize\"] = (4,4)\n",
    "        # plt.figure(figsize=(4,4))\n",
    "\n",
    "        # import matplotlib.pyplot as plt\n",
    "\n",
    "\n",
    "        sns.clustermap(\n",
    "                feature_vectors.groupby('subreddit').mean()[cols]\n",
    "            )\n",
    "        plt.title(f'{model_name} - {stat}', size=20)\n",
    "        plt.show()\n",
    "        \n",
    "        feature_vectors_normalized = feature_vectors[[n for n in feature_vectors.columns if stat in n]]\n",
    "        feature_vectors_normalized=(feature_vectors_normalized-feature_vectors_normalized.mean())/feature_vectors_normalized.std()\n",
    "        feature_vectors_normalized['subreddit']=feature_vectors['subreddit'].values\n",
    "        display(feature_vectors_normalized.groupby('subreddit').mean()[cols])\n",
    "\n",
    "        # plt.figure(figsize=(8,8))\n",
    "        sns.clustermap(feature_vectors_normalized.groupby('subreddit').mean())\n",
    "        plt.title(f'{model_name} - {stat} standardized', size=20)\n",
    "\n",
    "        plt.show()\n",
    "        \n",
    "        \n",
    "        \n"
   ]
  },
  {
   "cell_type": "code",
   "execution_count": null,
   "id": "302ea332-774f-40b1-b964-3884c436e1a0",
   "metadata": {},
   "outputs": [],
   "source": []
  },
  {
   "cell_type": "code",
   "execution_count": null,
   "id": "f46ebd04-1d4b-47f5-8a4e-15d253500568",
   "metadata": {},
   "outputs": [],
   "source": []
  }
 ],
 "metadata": {
  "kernelspec": {
   "display_name": "Python 3 (ipykernel)",
   "language": "python",
   "name": "python3"
  },
  "language_info": {
   "codemirror_mode": {
    "name": "ipython",
    "version": 3
   },
   "file_extension": ".py",
   "mimetype": "text/x-python",
   "name": "python",
   "nbconvert_exporter": "python",
   "pygments_lexer": "ipython3",
   "version": "3.7.12"
  }
 },
 "nbformat": 4,
 "nbformat_minor": 5
}
